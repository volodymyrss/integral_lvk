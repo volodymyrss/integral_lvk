{
 "cells": [
  {
   "cell_type": "code",
   "execution_count": 8,
   "metadata": {
    "tags": [
     "parameters"
    ]
   },
   "outputs": [],
   "source": [
    "# Parameters\n",
    "datasource = \"scw\"\n",
    "gcn_number = 33813\n",
    "name = \"S230518h\"\n",
    "t0_utc=\"2023-05-18T12:59:08.000000\"\n",
    "ra = 316.05 \n",
    "dec = 15.79 \n",
    "radius = 1.0\n",
    "event_kind = \"LVK\"\n",
    "healpix_url = \"skymap.fits\"\n",
    "force_online_expected = 0"
   ]
  },
  {
   "cell_type": "code",
   "execution_count": 9,
   "metadata": {},
   "outputs": [
    {
     "data": {
      "text/plain": [
       "'S230518h'"
      ]
     },
     "execution_count": 9,
     "metadata": {},
     "output_type": "execute_result"
    }
   ],
   "source": [
    "import hashlib\n",
    "\n",
    "key = hashlib.md5((\"%.15lg %.15lg %.5lg %s\"%(ra,dec,radius,healpix_url)).encode()).hexdigest()\n",
    "\n",
    "name=name.replace(\"AUTO\",\n",
    "                t0_utc[2:4]+t0_utc[5:7]+t0_utc[8:10]+\".\"+\n",
    "                (t0_utc[11:13] + t0_utc[14:16]) + t0_utc[17:].replace(\".\",\"\")+\"-\"+key[:4])\n",
    "\n",
    "name"
   ]
  },
  {
   "cell_type": "code",
   "execution_count": 10,
   "metadata": {},
   "outputs": [],
   "source": [
    "import sys\n",
    "import os\n",
    "\n",
    "sys.path.append(os.environ['HOME']+\"/work/integral-visibility\")\n",
    "import integralvisibility\n",
    "\n",
    "import healpy\n",
    "# sys.path.append(os.environ['HOME']+\"/work/integral/followup/integral-counterpart\")\n",
    "\n",
    "import astropy.io.fits as pyfits\n",
    "import astropy\n",
    "\n",
    "import integralclient as ic\n",
    "\n",
    "import dataanalysis as da\n",
    "da.printhook.global_permissive_output=False\n",
    "\n",
    "from astropy.coordinates import SkyCoord\n",
    "from astropy import units as u\n",
    "\n",
    "import json\n",
    "\n",
    "import pandas as pd\n",
    "draft_dir=os.environ['PWD']\n",
    "analysis_dir=draft_dir\n",
    "\n",
    "import os\n",
    "os.environ['INTEGRAL_DDCACHE_ROOT']=\"/data/ddcache/\"\n",
    "\n",
    "import counterpart\n",
    "\n",
    "\n",
    "import dataanalysis.core as da\n",
    "import dataanalysis.context as ddcontext"
   ]
  },
  {
   "cell_type": "code",
   "execution_count": 11,
   "metadata": {},
   "outputs": [
    {
     "name": "stdout",
     "output_type": "stream",
     "text": [
      "loc_parameters {'ra': 316.05, 'dec': 15.79, 'dra_p90': (-1.0, 1.0), 'ddec_p90': (-1.0, 1.0)}\n"
     ]
    }
   ],
   "source": [
    "loc_parameters=dict(\n",
    "            ra=ra,\n",
    "            dec=dec,            \n",
    "            dra_p90=(-radius,radius),\n",
    "            ddec_p90=(-radius,radius),\n",
    "        )\n",
    "\n",
    "print(\"loc_parameters\", loc_parameters)"
   ]
  },
  {
   "cell_type": "code",
   "execution_count": 12,
   "metadata": {
    "scrolled": true
   },
   "outputs": [
    {
     "name": "stderr",
     "output_type": "stream",
     "text": [
      "2023-05-18 17:39:09 savchenk-NG-VN7-793G-79EG healpy[672614] INFO NSIDE = 256\n",
      "2023-05-18 17:39:09 savchenk-NG-VN7-793G-79EG healpy[672614] INFO ORDERING = NESTED in fits file\n",
      "2023-05-18 17:39:09 savchenk-NG-VN7-793G-79EG healpy[672614] INFO INDXSCHM = IMPLICIT\n",
      "2023-05-18 17:39:09 savchenk-NG-VN7-793G-79EG healpy[672614] INFO Ordering converted to RING\n"
     ]
    },
    {
     "name": "stdout",
     "output_type": "stream",
     "text": [
      "DataSource.v0.scw\n",
      "1684424349.8302987 \u001b[94mtop\u001b[0m 672614/140517903087424 \u001b[0;36mobject requesting cache\u001b[0m for [Event.v0.S230518h.unknown.loc-hp-52e7f7dc;NoneInTheInput]  requested by +Event.v0.S230518h.unknown.loc-hp-52e7f7dc direct\n",
      "1684424349.830385 \u001b[94mtop\u001b[0m 672614/140517903087424 \u001b[0;35mcached, proceeding to restore\u001b[0m\n",
      "1684424349.8304672 \u001b[94mtop\u001b[0m 672614/140517903087424 \u001b[0;36msearching for cache starting from\u001b[0m [CacheCounterparts of size 0 at /data/ddcache/]\n",
      "Rev in hashe: None\n",
      "[CacheCounterparts of size 0 at /data/ddcache/] cached path: /data/ddcache//byevent/S230518h.unknown.loc-hp-52e7f7dc/any/741e1753/\n",
      "1684424349.83071 \u001b[94mtop\u001b[0m 672614/140517903087424 [CacheCounterparts of size 0 at /data/ddcache/] found cache file: /data/ddcache//byevent/S230518h.unknown.loc-hp-52e7f7dc/any/741e1753//cache.pickle.gz\n",
      "Rev in hashe: None\n",
      "[CacheCounterparts of size 0 at /data/ddcache/] cached path: /data/ddcache//byevent/S230518h.unknown.loc-hp-52e7f7dc/any/741e1753/\n",
      "1684424349.8308508 \u001b[94mtop\u001b[0m 672614/140517903087424 load_content is restoring from /data/ddcache//byevent/S230518h.unknown.loc-hp-52e7f7dc/any/741e1753//cache.pickle.gz\n",
      "Rev in hashe: None\n",
      "[CacheCounterparts of size 0 at /data/ddcache/] cached path: /data/ddcache//byevent/S230518h.unknown.loc-hp-52e7f7dc/any/741e1753/\n",
      "1684424349.8311536 \u001b[94mtop\u001b[0m 672614/140517903087424 will restore object from dir /data/ddcache//byevent/S230518h.unknown.loc-hp-52e7f7dc/any/741e1753/ [Event.v0.S230518h.unknown.loc-hp-52e7f7dc;NoneInTheInput]\n",
      "1684424349.831236 \u001b[94mtop\u001b[0m 672614/140517903087424 load_content is restoring from /data/ddcache//byevent/S230518h.unknown.loc-hp-52e7f7dc/any/741e1753//cache.pickle.gz\n",
      "1684424349.8314512 \u001b[94mtop\u001b[0m 672614/140517903087424 cache [CacheCounterparts of size 0 at /data/ddcache/] returns True\n",
      "1684424349.8319852 \u001b[94mtop\u001b[0m 672614/140517903087424 ('analysis', None, 'Event.v0.S230518h.unknown.loc-hp-52e7f7dc')\n",
      "healpix url NOT empty: peak at {'ra': 96.15234375, 'dec': -13.248014905676953}\n",
      "1684424350.7468092 \u001b[94mtop\u001b[0m 672614/140517903087424 \u001b[0;35mobject storing in cache\u001b[0m: [Event.v0.S230518h.2023-05-18T125908.000000.loc-hp-52e7f7dc;NoneInTheInput], cache [CacheCounterparts of size 0 at /data/ddcache/]\n",
      "1684424350.747708 \u001b[94mtop\u001b[0m 672614/140517903087424 \u001b[0;35mfirst non-transient cache\u001b[0m [CacheCounterparts of size 0 at /data/ddcache/] storing [Event.v0.S230518h.2023-05-18T125908.000000.loc-hp-52e7f7dc;NoneInTheInput]\n",
      "1684424350.7478654 \u001b[94mtop\u001b[0m 672614/140517903087424 [CacheCounterparts of size 0 at /data/ddcache/] storing: ('analysis', None, 'Event.v0.S230518h.unknown.loc-hp-52e7f7dc')\n",
      "Rev in hashe: None\n",
      "[CacheCounterparts of size 0 at /data/ddcache/] cached path: /data/ddcache//byevent/S230518h.unknown.loc-hp-52e7f7dc/any/741e1753/\n",
      "1684424350.751733 \u001b[94mtop\u001b[0m 672614/140517903087424 assembling portable identity\n",
      "\u001b[31m now assumptions 0 / 0\u001b[0m\n",
      "Rev in hashe: None\n",
      "[CacheCounterparts of size 0 at /data/ddcache/] cached path: /data/ddcache//byevent/S230518h.unknown.loc-hp-52e7f7dc/any/741e1753/\n",
      "1684424350.7560139 \u001b[94mtop\u001b[0m 672614/140517903087424 [CacheCounterparts of size 0 at /data/ddcache/] found cache file: /data/ddcache//byevent/S230518h.unknown.loc-hp-52e7f7dc/any/741e1753//cache.pickle.gz\n",
      "Rev in hashe: None\n",
      "[CacheCounterparts of size 0 at /data/ddcache/] cached path: /data/ddcache//byevent/S230518h.unknown.loc-hp-52e7f7dc/any/741e1753/\n",
      "1684424350.7561972 \u001b[94mtop\u001b[0m 672614/140517903087424 load_content is restoring from /data/ddcache//byevent/S230518h.unknown.loc-hp-52e7f7dc/any/741e1753//cache.pickle.gz\n",
      "peak 96.15234375 -13.248014905676953\n",
      "50 % containment\n",
      "  RA 91.65 .. 259.76\n",
      "  RA 4.5 .. 355.91\n",
      "  Dec 76.57 .. 21.33\n",
      "  Dec -89.82 .. 8.08\n",
      "90 % containment\n",
      "  RA 93.9 .. 261.97\n",
      "  RA 2.25 .. 358.12\n",
      "  Dec 76.57 .. 48.02\n",
      "  Dec -89.82 .. 34.77\n"
     ]
    }
   ],
   "source": [
    "import imp\n",
    "\n",
    "da.reset()\n",
    "imp.reload(counterpart)\n",
    "imp.reload(counterpart.workflows)\n",
    "\n",
    "counterpart.DataSource.datasource = datasource \n",
    "\n",
    "print(counterpart.DataSource().get_version())\n",
    "\n",
    "if force_online_expected > 0:\n",
    "    counterpart.DetectONExpected.force_online_expected = True\n",
    "\n",
    "class OperationStatus(counterpart.OperationStatus):\n",
    "    version=\"v2\"    \n",
    "    \n",
    "    def main(self):\n",
    "        self.ibis_on=True\n",
    "        self.spi_on=True\n",
    "\n",
    "def define_event():\n",
    "    class Event(counterpart.Event):\n",
    "        event_name=name\n",
    "        event_origin=event_kind\n",
    "        healpix_url=healpix_url.replace(\"\\\"\",\"\")\n",
    "        loc_parameters = loc_parameters\n",
    "\n",
    "        cached=True\n",
    "\n",
    "        def setup(self):    \n",
    "\n",
    "            self.gcn=dict(number=gcn_number)\n",
    "\n",
    "            \n",
    "            self.event_time=dict(\n",
    "                utc=t0_utc,\n",
    "            )\n",
    "    return Event\n",
    "        \n",
    "\n",
    "ICE=define_event()().get()\n",
    "ICE.promote()\n",
    "\n",
    "ICE.loc_map\n",
    "\n",
    "ICE.store_cache(ICE._da_locally_complete)\n",
    "\n",
    "#counterpart.Event(use_event_kind=IceCubeEvent).promote()\n",
    "\n",
    "ICE.describe_loc_regions()\n",
    "\n",
    "#ICE.plot_map()\n",
    "\n",
    "\n",
    "#######\n",
    "\n",
    "\n",
    "\n",
    "\n",
    "#if len(sens.get_exceptions()) == 0:\n",
    "#    sens.plot_fancy()\n",
    "\n",
    "\n"
   ]
  },
  {
   "cell_type": "code",
   "execution_count": 13,
   "metadata": {},
   "outputs": [
    {
     "data": {
      "text/plain": [
       "{'ra': 96.15234375, 'dec': -13.248014905676953}"
      ]
     },
     "execution_count": 13,
     "metadata": {},
     "output_type": "execute_result"
    }
   ],
   "source": [
    "ICE.loc_parameters"
   ]
  },
  {
   "cell_type": "code",
   "execution_count": 14,
   "metadata": {
    "scrolled": true
   },
   "outputs": [
    {
     "name": "stdout",
     "output_type": "stream",
     "text": [
      "1684424351.454908 \u001b[94mtop\u001b[0m 672614/140517903087424 \u001b[0;36mobject requesting cache\u001b[0m for [Sensitivities.v0;NoneInTheInput]  requested by +Sensitivities.v0 direct\n",
      "1684424351.472485 \u001b[94mtop\u001b[0m 672614/140517903087424 \u001b[0;36mobject requesting cache\u001b[0m for [SensitivityMaps.v0;NoneInTheInput]  requested by +SensitivityMaps.v0 input_of +Sensitivities.v0 output_required_by_parent +Sensitivities.v0 direct\n",
      "1684424351.47332 \u001b[94mtop\u001b[0m 672614/140517903087424 \u001b[0;36mobject requesting cache\u001b[0m for [SourceAssumptions.v2;NoneInTheInput]  requested by +SourceAssumptions.v2 input_of +SensitivityMaps.v0 output_required_by_parent +SensitivityMaps.v0 input_of +Sensitivities.v0 output_required_by_parent +Sensitivities.v0 direct\n",
      "1684424351.4738 \u001b[94mtop\u001b[0m 672614/140517903087424 \u001b[0;36mobject requesting cache\u001b[0m for [SourceAssumptions.v2;NoneInTheInput]  requested by +SourceAssumptions.v2 output_required_by_parent +SourceAssumptions.v2 input_of +SensitivityMaps.v0 output_required_by_parent +SensitivityMaps.v0 input_of +Sensitivities.v0 output_required_by_parent +Sensitivities.v0 direct\n",
      "1684424351.474895 \u001b[94mtop\u001b[0m 672614/140517903087424 node [SourceAssumptions.v2;NoneInTheInput] main \u001b[92mDONE\u001b[0m!\n",
      "1684424351.4757407 \u001b[94mtop\u001b[0m 672614/140517903087424 \u001b[0;35mobject storing in cache\u001b[0m: [SourceAssumptions.v2;NoneInTheInput], cache [CacheCounterparts of size 0 at /data/ddcache/]\n",
      "1684424351.476063 \u001b[94mtop\u001b[0m 672614/140517903087424 \u001b[0;35mfirst non-transient cache\u001b[0m [CacheCounterparts of size 0 at /data/ddcache/] storing [SourceAssumptions.v2;NoneInTheInput]\n",
      "1684424351.484603 \u001b[94mtop\u001b[0m 672614/140517903087424 \u001b[0;36mobject requesting cache\u001b[0m for [CountLimits.v2.2_span_300;NoneInTheInput]  requested by +CountLimits.v2.2_span_300 input_of +SensitivityMaps.v0 output_required_by_parent +SensitivityMaps.v0 input_of +Sensitivities.v0 output_required_by_parent +Sensitivities.v0 direct\n",
      "1684424351.4847202 \u001b[94mtop\u001b[0m 672614/140517903087424 \u001b[0;35mcached, proceeding to restore\u001b[0m\n",
      "1684424351.484781 \u001b[94mtop\u001b[0m 672614/140517903087424 \u001b[0;36msearching for cache starting from\u001b[0m [CacheCounterparts of size 0 at /data/ddcache/]\n",
      "Rev in hashe: None\n",
      "[CacheCounterparts of size 0 at /data/ddcache/] cached path: /data/ddcache//byevent/S230518h.2023-05-18T125908.000000.loc-hp-52e7f7dc/CountLimits.v2.2_span_300/fee2bb9a/\n",
      "1684424351.4850187 \u001b[94mtop\u001b[0m 672614/140517903087424 [CacheCounterparts of size 0 at /data/ddcache/] found cache file: /data/ddcache//byevent/S230518h.2023-05-18T125908.000000.loc-hp-52e7f7dc/CountLimits.v2.2_span_300/fee2bb9a//cache.pickle.gz\n",
      "Rev in hashe: None\n",
      "[CacheCounterparts of size 0 at /data/ddcache/] cached path: /data/ddcache//byevent/S230518h.2023-05-18T125908.000000.loc-hp-52e7f7dc/CountLimits.v2.2_span_300/fee2bb9a/\n",
      "1684424351.485204 \u001b[94mtop\u001b[0m 672614/140517903087424 load_content is restoring from /data/ddcache//byevent/S230518h.2023-05-18T125908.000000.loc-hp-52e7f7dc/CountLimits.v2.2_span_300/fee2bb9a//cache.pickle.gz\n",
      "Rev in hashe: None\n",
      "[CacheCounterparts of size 0 at /data/ddcache/] cached path: /data/ddcache//byevent/S230518h.2023-05-18T125908.000000.loc-hp-52e7f7dc/CountLimits.v2.2_span_300/fee2bb9a/\n",
      "1684424351.485616 \u001b[94mtop\u001b[0m 672614/140517903087424 will restore object from dir /data/ddcache//byevent/S230518h.2023-05-18T125908.000000.loc-hp-52e7f7dc/CountLimits.v2.2_span_300/fee2bb9a/ [CountLimits.v2.2_span_300;NoneInTheInput]\n",
      "1684424351.485704 \u001b[94mtop\u001b[0m 672614/140517903087424 load_content is restoring from /data/ddcache//byevent/S230518h.2023-05-18T125908.000000.loc-hp-52e7f7dc/CountLimits.v2.2_span_300/fee2bb9a//cache.pickle.gz\n",
      "1684424351.4861715 \u001b[94mtop\u001b[0m 672614/140517903087424 cache [CacheCounterparts of size 0 at /data/ddcache/] returns True\n",
      "1684424351.4862773 \u001b[94mcache\u001b[0m 672614/140517903087424 disabled self.rename_output_unique\n",
      "1684424351.486625 \u001b[94mtop\u001b[0m 672614/140517903087424 ('analysis', ('list', ('analysis', None, 'SourceAssumptions.v2'), ('analysis', None, 'DataSource.v0.scw'), ('analysis', ('analysis', None, 'DataSource.v0.scw'), 'InstrumentSelection.v1'), ('analysis', ('list', ('analysis', None, 'DataSource.v0.scw'), ('analysis', ('analysis', None, 'Event.v0.S230518h.2023-05-18T125908.000000.loc-hp-52e7f7dc'), 'DetectONExpected.v0'), ('analysis', None, 'Event.v0.S230518h.2023-05-18T125908.000000.loc-hp-52e7f7dc')), 'DetectNoData.v0'), ('analysis', ('analysis', None, 'Event.v0.S230518h.2023-05-18T125908.000000.loc-hp-52e7f7dc'), 'OperationStatus.v2'), ('analysis', None, 'Event.v0.S230518h.2023-05-18T125908.000000.loc-hp-52e7f7dc')), 'CountLimits.v2.2_span_300')\n",
      "1684424351.4882977 \u001b[94mtop\u001b[0m 672614/140517903087424 \u001b[0;36mobject requesting cache\u001b[0m for [InstrumentSelection.v1;NoneInTheInput]  requested by +InstrumentSelection.v1 input_of +SensitivityMaps.v0 output_required_by_parent +SensitivityMaps.v0 input_of +Sensitivities.v0 output_required_by_parent +Sensitivities.v0 direct\n",
      "1684424351.4890943 \u001b[94mtop\u001b[0m 672614/140517903087424 \u001b[0;36mobject requesting cache\u001b[0m for [DataSource.v0.scw;NoneInTheInput]  requested by +DataSource.v0.scw input_of +InstrumentSelection.v1 output_required_by_parent +InstrumentSelection.v1 input_of +SensitivityMaps.v0 output_required_by_parent +SensitivityMaps.v0 input_of +Sensitivities.v0 output_required_by_parent +Sensitivities.v0 direct\n",
      "1684424351.4895527 \u001b[94mtop\u001b[0m 672614/140517903087424 \u001b[0;36mobject requesting cache\u001b[0m for [DataSource.v0.scw;NoneInTheInput]  requested by +DataSource.v0.scw output_required_by_parent +DataSource.v0.scw input_of +InstrumentSelection.v1 output_required_by_parent +InstrumentSelection.v1 input_of +SensitivityMaps.v0 output_required_by_parent +SensitivityMaps.v0 input_of +Sensitivities.v0 output_required_by_parent +Sensitivities.v0 direct\n",
      "1684424351.492116 \u001b[94mtop\u001b[0m 672614/140517903087424 node [DataSource.v0.scw;NoneInTheInput] main \u001b[92mDONE\u001b[0m!\n",
      "1684424351.4933405 \u001b[94mtop\u001b[0m 672614/140517903087424 \u001b[0;35mobject storing in cache\u001b[0m: [DataSource.v0.scw;NoneInTheInput], cache [CacheCounterparts of size 0 at /data/ddcache/]\n",
      "1684424351.4936423 \u001b[94mtop\u001b[0m 672614/140517903087424 \u001b[0;35mfirst non-transient cache\u001b[0m [CacheCounterparts of size 0 at /data/ddcache/] storing [DataSource.v0.scw;NoneInTheInput]\n",
      "1684424351.4948697 \u001b[94mtop\u001b[0m 672614/140517903087424 \u001b[0;36mobject requesting cache\u001b[0m for [InstrumentSelection.v1;NoneInTheInput]  requested by +InstrumentSelection.v1 output_required_by_parent +InstrumentSelection.v1 input_of +SensitivityMaps.v0 output_required_by_parent +SensitivityMaps.v0 input_of +Sensitivities.v0 output_required_by_parent +Sensitivities.v0 direct\n",
      "1684424351.4963453 \u001b[94mtop\u001b[0m 672614/140517903087424 node [InstrumentSelection.v1;NoneInTheInput] main \u001b[92mDONE\u001b[0m!\n",
      "1684424351.4976537 \u001b[94mtop\u001b[0m 672614/140517903087424 \u001b[0;35mobject storing in cache\u001b[0m: [InstrumentSelection.v1;NoneInTheInput], cache [CacheCounterparts of size 0 at /data/ddcache/]\n",
      "1684424351.498074 \u001b[94mtop\u001b[0m 672614/140517903087424 \u001b[0;35mfirst non-transient cache\u001b[0m [CacheCounterparts of size 0 at /data/ddcache/] storing [InstrumentSelection.v1;NoneInTheInput]\n",
      "1684424351.501598 \u001b[94mtop\u001b[0m 672614/140517903087424 \u001b[0;36mobject requesting cache\u001b[0m for [OperationStatus.v2;NoneInTheInput]  requested by +OperationStatus.v2 input_of +SensitivityMaps.v0 output_required_by_parent +SensitivityMaps.v0 input_of +Sensitivities.v0 output_required_by_parent +Sensitivities.v0 direct\n",
      "1684424351.5049489 \u001b[94mtop\u001b[0m 672614/140517903087424 \u001b[0;35mcached, proceeding to restore\u001b[0m\n",
      "1684424351.505029 \u001b[94mtop\u001b[0m 672614/140517903087424 \u001b[0;36msearching for cache starting from\u001b[0m [CacheCounterparts of size 0 at /data/ddcache/]\n",
      "Rev in hashe: None\n",
      "[CacheCounterparts of size 0 at /data/ddcache/] cached path: /data/ddcache//byevent/S230518h.2023-05-18T125908.000000.loc-hp-52e7f7dc/OperationStatus.v2/6f50566f/\n",
      "1684424351.5052514 \u001b[94mtop\u001b[0m 672614/140517903087424 [CacheCounterparts of size 0 at /data/ddcache/] found cache file: /data/ddcache//byevent/S230518h.2023-05-18T125908.000000.loc-hp-52e7f7dc/OperationStatus.v2/6f50566f//cache.pickle.gz\n",
      "Rev in hashe: None\n",
      "[CacheCounterparts of size 0 at /data/ddcache/] cached path: /data/ddcache//byevent/S230518h.2023-05-18T125908.000000.loc-hp-52e7f7dc/OperationStatus.v2/6f50566f/\n",
      "1684424351.5054593 \u001b[94mtop\u001b[0m 672614/140517903087424 load_content is restoring from /data/ddcache//byevent/S230518h.2023-05-18T125908.000000.loc-hp-52e7f7dc/OperationStatus.v2/6f50566f//cache.pickle.gz\n",
      "Rev in hashe: None\n",
      "[CacheCounterparts of size 0 at /data/ddcache/] cached path: /data/ddcache//byevent/S230518h.2023-05-18T125908.000000.loc-hp-52e7f7dc/OperationStatus.v2/6f50566f/\n",
      "1684424351.50587 \u001b[94mtop\u001b[0m 672614/140517903087424 will restore object from dir /data/ddcache//byevent/S230518h.2023-05-18T125908.000000.loc-hp-52e7f7dc/OperationStatus.v2/6f50566f/ [OperationStatus.v2;NoneInTheInput]\n",
      "1684424351.5059674 \u001b[94mtop\u001b[0m 672614/140517903087424 load_content is restoring from /data/ddcache//byevent/S230518h.2023-05-18T125908.000000.loc-hp-52e7f7dc/OperationStatus.v2/6f50566f//cache.pickle.gz\n",
      "1684424351.5062928 \u001b[94mtop\u001b[0m 672614/140517903087424 cache [CacheCounterparts of size 0 at /data/ddcache/] returns True\n",
      "1684424351.5064056 \u001b[94mcache\u001b[0m 672614/140517903087424 disabled self.rename_output_unique\n",
      "1684424351.5066934 \u001b[94mtop\u001b[0m 672614/140517903087424 ('analysis', ('analysis', None, 'Event.v0.S230518h.2023-05-18T125908.000000.loc-hp-52e7f7dc'), 'OperationStatus.v2')\n",
      "1684424351.5155535 \u001b[94mtop\u001b[0m 672614/140517903087424 \u001b[0;36mobject requesting cache\u001b[0m for [Responses.v0;NoneInTheInput]  requested by +Responses.v0 input_of +SensitivityMaps.v0 output_required_by_parent +SensitivityMaps.v0 input_of +Sensitivities.v0 output_required_by_parent +Sensitivities.v0 direct\n",
      "1684424351.516377 \u001b[94mtop\u001b[0m 672614/140517903087424 \u001b[0;36mobject requesting cache\u001b[0m for [SourceAssumptions.v2;NoneInTheInput]  requested by +SourceAssumptions.v2 input_of +Responses.v0 output_required_by_parent +Responses.v0 input_of +SensitivityMaps.v0 output_required_by_parent +SensitivityMaps.v0 input_of +Sensitivities.v0 output_required_by_parent +Sensitivities.v0 direct\n",
      "1684424351.5164561 \u001b[94mtop\u001b[0m 672614/140517903087424 the object has not record of restore config\n",
      "1684424351.5165086 \u001b[94mtop\u001b[0m 672614/140517903087424 ('analysis', None, 'SourceAssumptions.v2')\n",
      "1684424351.523268 \u001b[94mtop\u001b[0m 672614/140517903087424 \u001b[0;36mobject requesting cache\u001b[0m for [DetectNoData.v0;NoneInTheInput]  requested by +DetectNoData.v0 input_of +Responses.v0 output_required_by_parent +Responses.v0 input_of +SensitivityMaps.v0 output_required_by_parent +SensitivityMaps.v0 input_of +Sensitivities.v0 output_required_by_parent +Sensitivities.v0 direct\n",
      "1684424351.5241249 \u001b[94mtop\u001b[0m 672614/140517903087424 \u001b[0;36mobject requesting cache\u001b[0m for [DataSource.v0.scw;NoneInTheInput]  requested by +DataSource.v0.scw input_of +DetectNoData.v0 output_required_by_parent +DetectNoData.v0 input_of +Responses.v0 output_required_by_parent +Responses.v0 input_of +SensitivityMaps.v0 output_required_by_parent +SensitivityMaps.v0 input_of +Sensitivities.v0 output_required_by_parent +Sensitivities.v0 direct\n",
      "1684424351.5242035 \u001b[94mtop\u001b[0m 672614/140517903087424 the object has not record of restore config\n",
      "1684424351.5242558 \u001b[94mtop\u001b[0m 672614/140517903087424 ('analysis', None, 'DataSource.v0.scw')\n",
      "1684424351.5259492 \u001b[94mtop\u001b[0m 672614/140517903087424 \u001b[0;36mobject requesting cache\u001b[0m for [DetectONExpected.v0;NoneInTheInput]  requested by +DetectONExpected.v0 input_of +DetectNoData.v0 output_required_by_parent +DetectNoData.v0 input_of +Responses.v0 output_required_by_parent +Responses.v0 input_of +SensitivityMaps.v0 output_required_by_parent +SensitivityMaps.v0 input_of +Sensitivities.v0 output_required_by_parent +Sensitivities.v0 direct\n",
      "1684424351.52681 \u001b[94mtop\u001b[0m 672614/140517903087424 \u001b[0;36mobject requesting cache\u001b[0m for [Event.v0.S230518h.2023-05-18T125908.000000.loc-hp-52e7f7dc;NoneInTheInput]  requested by +Event.v0.S230518h.2023-05-18T125908.000000.loc-hp-52e7f7dc input_of +DetectONExpected.v0 output_required_by_parent +DetectONExpected.v0 input_of +DetectNoData.v0 output_required_by_parent +DetectNoData.v0 input_of +Responses.v0 output_required_by_parent +Responses.v0 input_of +SensitivityMaps.v0 output_required_by_parent +SensitivityMaps.v0 input_of +Sensitivities.v0 output_required_by_parent +Sensitivities.v0 direct\n",
      "1684424351.5274343 \u001b[94mtop\u001b[0m 672614/140517903087424 \u001b[0;36mobject requesting cache\u001b[0m for [Event.v0.S230518h.2023-05-18T125908.000000.loc-hp-52e7f7dc;NoneInTheInput]  requested by +Event.v0.S230518h.2023-05-18T125908.000000.loc-hp-52e7f7dc output_required_by_parent +Event.v0.S230518h.2023-05-18T125908.000000.loc-hp-52e7f7dc input_of +DetectONExpected.v0 output_required_by_parent +DetectONExpected.v0 input_of +DetectNoData.v0 output_required_by_parent +DetectNoData.v0 input_of +Responses.v0 output_required_by_parent +Responses.v0 input_of +SensitivityMaps.v0 output_required_by_parent +SensitivityMaps.v0 input_of +Sensitivities.v0 output_required_by_parent +Sensitivities.v0 direct\n",
      "\u001b[0;36m2023-05-18T15:39:11.6\u001b[0m [\u001b[94mterpart.py: 362\u001b[0m\u001b[93m[Event.v0.S230518h.2\u001b[0m; \u001b[0;36mdescribe_l\u001b[0m: peak 96.15234375 -13.248014905676953\n",
      "\u001b[0;36m2023-05-18T15:39:11.7\u001b[0m [\u001b[94mterpart.py: 366\u001b[0m\u001b[93m[Event.v0.S230518h.2\u001b[0m; \u001b[0;36mdescribe_l\u001b[0m: 50 % containment\n",
      "\u001b[0;36m2023-05-18T15:39:11.7\u001b[0m [\u001b[94mterpart.py: 367\u001b[0m\u001b[93m[Event.v0.S230518h.2\u001b[0m; \u001b[0;36mdescribe_l\u001b[0m: RA 91.65 .. 259.76\n",
      "\u001b[0;36m2023-05-18T15:39:11.7\u001b[0m [\u001b[94mterpart.py: 368\u001b[0m\u001b[93m[Event.v0.S230518h.2\u001b[0m; \u001b[0;36mdescribe_l\u001b[0m: RA 4.5 .. 355.91\n",
      "\u001b[0;36m2023-05-18T15:39:11.7\u001b[0m [\u001b[94mterpart.py: 369\u001b[0m\u001b[93m[Event.v0.S230518h.2\u001b[0m; \u001b[0;36mdescribe_l\u001b[0m: Dec 76.57 .. 21.33\n",
      "\u001b[0;36m2023-05-18T15:39:11.7\u001b[0m [\u001b[94mterpart.py: 370\u001b[0m\u001b[93m[Event.v0.S230518h.2\u001b[0m; \u001b[0;36mdescribe_l\u001b[0m: Dec -89.82 .. 8.08\n",
      "\u001b[0;36m2023-05-18T15:39:11.8\u001b[0m [\u001b[94mterpart.py: 366\u001b[0m\u001b[93m[Event.v0.S230518h.2\u001b[0m; \u001b[0;36mdescribe_l\u001b[0m: 90 % containment\n",
      "\u001b[0;36m2023-05-18T15:39:11.8\u001b[0m [\u001b[94mterpart.py: 367\u001b[0m\u001b[93m[Event.v0.S230518h.2\u001b[0m; \u001b[0;36mdescribe_l\u001b[0m: RA 93.9 .. 261.97\n",
      "\u001b[0;36m2023-05-18T15:39:11.8\u001b[0m [\u001b[94mterpart.py: 368\u001b[0m\u001b[93m[Event.v0.S230518h.2\u001b[0m; \u001b[0;36mdescribe_l\u001b[0m: RA 2.25 .. 358.12\n",
      "\u001b[0;36m2023-05-18T15:39:11.8\u001b[0m [\u001b[94mterpart.py: 369\u001b[0m\u001b[93m[Event.v0.S230518h.2\u001b[0m; \u001b[0;36mdescribe_l\u001b[0m: Dec 76.57 .. 48.02\n",
      "\u001b[0;36m2023-05-18T15:39:11.8\u001b[0m [\u001b[94mterpart.py: 370\u001b[0m\u001b[93m[Event.v0.S230518h.2\u001b[0m; \u001b[0;36mdescribe_l\u001b[0m: Dec -89.82 .. 34.77\n",
      "1684424351.8982139 \u001b[94mtop\u001b[0m 672614/140517903087424 node [Event.v0.S230518h.2023-05-18T125908.000000.loc-hp-52e7f7dc;NoneInTheInput] main \u001b[92mDONE\u001b[0m!\n",
      "1684424351.8993652 \u001b[94mtop\u001b[0m 672614/140517903087424 \u001b[0;35mobject storing in cache\u001b[0m: [Event.v0.S230518h.2023-05-18T125908.000000.loc-hp-52e7f7dc;NoneInTheInput], cache [CacheCounterparts of size 0 at /data/ddcache/]\n",
      "1684424351.8997915 \u001b[94mtop\u001b[0m 672614/140517903087424 \u001b[0;35mfirst non-transient cache\u001b[0m [CacheCounterparts of size 0 at /data/ddcache/] storing [Event.v0.S230518h.2023-05-18T125908.000000.loc-hp-52e7f7dc;NoneInTheInput]\n",
      "1684424351.8999326 \u001b[94mtop\u001b[0m 672614/140517903087424 [CacheCounterparts of size 0 at /data/ddcache/] storing: ('analysis', None, 'Event.v0.S230518h.2023-05-18T125908.000000.loc-hp-52e7f7dc')\n",
      "Rev in hashe: None\n",
      "[CacheCounterparts of size 0 at /data/ddcache/] cached path: /data/ddcache//byevent/S230518h.2023-05-18T125908.000000.loc-hp-52e7f7dc/any/741e1753/\n",
      "1684424351.9034133 \u001b[94mtop\u001b[0m 672614/140517903087424 assembling portable identity\n",
      "\u001b[31m now assumptions 0 / 0\u001b[0m\n",
      "Rev in hashe: None\n",
      "[CacheCounterparts of size 0 at /data/ddcache/] cached path: /data/ddcache//byevent/S230518h.2023-05-18T125908.000000.loc-hp-52e7f7dc/any/741e1753/\n",
      "1684424351.9070957 \u001b[94mtop\u001b[0m 672614/140517903087424 [CacheCounterparts of size 0 at /data/ddcache/] found cache file: /data/ddcache//byevent/S230518h.2023-05-18T125908.000000.loc-hp-52e7f7dc/any/741e1753//cache.pickle.gz\n",
      "Rev in hashe: None\n",
      "[CacheCounterparts of size 0 at /data/ddcache/] cached path: /data/ddcache//byevent/S230518h.2023-05-18T125908.000000.loc-hp-52e7f7dc/any/741e1753/\n",
      "1684424351.9072492 \u001b[94mtop\u001b[0m 672614/140517903087424 load_content is restoring from /data/ddcache//byevent/S230518h.2023-05-18T125908.000000.loc-hp-52e7f7dc/any/741e1753//cache.pickle.gz\n",
      "1684424351.9082906 \u001b[94mtop\u001b[0m 672614/140517903087424 \u001b[0;36mobject requesting cache\u001b[0m for [DetectONExpected.v0;NoneInTheInput]  requested by +DetectONExpected.v0 output_required_by_parent +DetectONExpected.v0 input_of +DetectNoData.v0 output_required_by_parent +DetectNoData.v0 input_of +Responses.v0 output_required_by_parent +Responses.v0 input_of +SensitivityMaps.v0 output_required_by_parent +SensitivityMaps.v0 input_of +Sensitivities.v0 output_required_by_parent +Sensitivities.v0 direct\n",
      "\u001b[0;36m2023-05-18T15:39:11.9\u001b[0m [\u001b[94mterpart.py: 531\u001b[0m\u001b[93m[DetectONExpected.v0\u001b[0m; \u001b[0;36m      main\u001b[0m: FORCED online expected\n",
      "1684424351.9100895 \u001b[94mtop\u001b[0m 672614/140517903087424 node [DetectONExpected.v0;NoneInTheInput] main \u001b[92mDONE\u001b[0m!\n",
      "1684424351.911019 \u001b[94mtop\u001b[0m 672614/140517903087424 \u001b[0;35mobject storing in cache\u001b[0m: [DetectONExpected.v0;NoneInTheInput], cache [CacheCounterparts of size 0 at /data/ddcache/]\n",
      "1684424351.9113784 \u001b[94mtop\u001b[0m 672614/140517903087424 \u001b[0;35mfirst non-transient cache\u001b[0m [CacheCounterparts of size 0 at /data/ddcache/] storing [DetectONExpected.v0;NoneInTheInput]\n",
      "1684424351.9125822 \u001b[94mtop\u001b[0m 672614/140517903087424 \u001b[0;36mobject requesting cache\u001b[0m for [Event.v0.S230518h.2023-05-18T125908.000000.loc-hp-52e7f7dc;NoneInTheInput]  requested by +Event.v0.S230518h.2023-05-18T125908.000000.loc-hp-52e7f7dc input_of +DetectNoData.v0 output_required_by_parent +DetectNoData.v0 input_of +Responses.v0 output_required_by_parent +Responses.v0 input_of +SensitivityMaps.v0 output_required_by_parent +SensitivityMaps.v0 input_of +Sensitivities.v0 output_required_by_parent +Sensitivities.v0 direct\n",
      "1684424351.912676 \u001b[94mtop\u001b[0m 672614/140517903087424 the object was recovered with a different restore config: {'datafile_restore_mode': 'copy', 'datafile_target_dir': None} became {'datafile_restore_mode': 'copy', 'test_files': True}\n",
      "1684424351.912842 \u001b[94mtop\u001b[0m 672614/140517903087424 ('analysis', None, 'Event.v0.S230518h.2023-05-18T125908.000000.loc-hp-52e7f7dc')\n",
      "1684424351.913714 \u001b[94mtop\u001b[0m 672614/140517903087424 \u001b[0;36mobject requesting cache\u001b[0m for [DetectNoData.v0;NoneInTheInput]  requested by +DetectNoData.v0 output_required_by_parent +DetectNoData.v0 input_of +Responses.v0 output_required_by_parent +Responses.v0 input_of +SensitivityMaps.v0 output_required_by_parent +SensitivityMaps.v0 input_of +Sensitivities.v0 output_required_by_parent +Sensitivities.v0 direct\n",
      "1684424351.9155393 \u001b[94mtop\u001b[0m 672614/140517903087424 node [DetectNoData.v0;NoneInTheInput] main \u001b[92mDONE\u001b[0m!\n",
      "1684424351.916523 \u001b[94mtop\u001b[0m 672614/140517903087424 \u001b[0;35mobject storing in cache\u001b[0m: [DetectNoData.v0;NoneInTheInput], cache [CacheCounterparts of size 0 at /data/ddcache/]\n",
      "1684424351.9169335 \u001b[94mtop\u001b[0m 672614/140517903087424 \u001b[0;35mfirst non-transient cache\u001b[0m [CacheCounterparts of size 0 at /data/ddcache/] storing [DetectNoData.v0;NoneInTheInput]\n",
      "1684424351.9182334 \u001b[94mtop\u001b[0m 672614/140517903087424 \u001b[0;36mobject requesting cache\u001b[0m for [Event.v0.S230518h.2023-05-18T125908.000000.loc-hp-52e7f7dc;NoneInTheInput]  requested by +Event.v0.S230518h.2023-05-18T125908.000000.loc-hp-52e7f7dc input_of +Responses.v0 output_required_by_parent +Responses.v0 input_of +SensitivityMaps.v0 output_required_by_parent +SensitivityMaps.v0 input_of +Sensitivities.v0 output_required_by_parent +Sensitivities.v0 direct\n",
      "1684424351.9183302 \u001b[94mtop\u001b[0m 672614/140517903087424 the object was recovered with a different restore config: {'datafile_restore_mode': 'copy', 'datafile_target_dir': None} became {'datafile_restore_mode': 'copy', 'test_files': True}\n",
      "1684424351.9184954 \u001b[94mtop\u001b[0m 672614/140517903087424 ('analysis', None, 'Event.v0.S230518h.2023-05-18T125908.000000.loc-hp-52e7f7dc')\n",
      "1684424351.9193392 \u001b[94mtop\u001b[0m 672614/140517903087424 \u001b[0;36mobject requesting cache\u001b[0m for [Responses.v0;NoneInTheInput]  requested by +Responses.v0 output_required_by_parent +Responses.v0 input_of +SensitivityMaps.v0 output_required_by_parent +SensitivityMaps.v0 input_of +Sensitivities.v0 output_required_by_parent +Sensitivities.v0 direct\n",
      "\u001b[0;36m2023-05-18T15:39:11.9\u001b[0m [\u001b[94mterpart.py: 843\u001b[0m\u001b[93m[Responses.v0;NoneIn\u001b[0m; \u001b[0;36m      main\u001b[0m: sides from target: 256\n"
     ]
    },
    {
     "ename": "UnhandledAnalysisException",
     "evalue": "\n\n>>> main log\n>>> \u001b[0;36m2023-05-18T15:39:11.9\u001b[0m [\u001b[94mterpart.py: 843\u001b[0m\u001b[93m[Responses.v0;NoneIn\u001b[0m; \u001b[0;36m      main\u001b[0m: sides from target: 256\n>>> \n\nTraceback (most recent call last):\n  File \"/home/savchenk/miniconda-recent/lib/python3.9/site-packages/dataanalysis/core.py\", line 1117, in process_run_main\n    mr=self.main() # main!\n  File \"/home/savchenk/miniconda-recent/lib/python3.9/site-packages/dataanalysis/printhook.py\", line 280, in nf\n    function_return=f(s,*a,**b)\n  File \"/home/savchenk/integral_lvk/counterpart.py\", line 849, in main\n    CT.compute_transform_grids()\n  File \"/home/savchenk/integral_lvk/counterpart.py\", line 1607, in compute_transform_grids\n    sky_coord = self.get_grid()\n  File \"/home/savchenk/integral_lvk/counterpart.py\", line 1604, in get_grid\n    return SkyCoord(phi, theta, 1, unit=(u.rad, u.rad))\n  File \"/home/savchenk/miniconda-recent/lib/python3.9/site-packages/astropy/coordinates/sky_coordinate.py\", line 339, in __init__\n    skycoord_kwargs, components, info = _parse_coordinate_data(\n  File \"/home/savchenk/miniconda-recent/lib/python3.9/site-packages/astropy/coordinates/sky_coordinate_parsers.py\", line 314, in _parse_coordinate_data\n    _components[frame_attr_name] = attr_class(arg, unit=unit)\n  File \"/home/savchenk/miniconda-recent/lib/python3.9/site-packages/astropy/coordinates/angles.py\", line 542, in __new__\n    self._validate_angles()\n  File \"/home/savchenk/miniconda-recent/lib/python3.9/site-packages/astropy/coordinates/angles.py\", line 567, in _validate_angles\n    raise ValueError(\nValueError: Latitude angle(s) must be within -90 deg <= angle <= 90 deg, got [  0.18274152   0.18274152   0.18274152 ... 179.81725848 179.81725848\n 179.81725848] deg\n\n>>> ValueError('Latitude angle(s) must be within -90 deg <= angle <= 90 deg, got [  0.18274152   0.18274152   0.18274152 ... 179.81725848 179.81725848\\n 179.81725848] deg')\n\nin DataAnalysis node: [Responses.v0;NoneInTheInput]\nrequested by: +Responses.v0 output_required_by_parent +Responses.v0 input_of +SensitivityMaps.v0 output_required_by_parent +SensitivityMaps.v0 input_of +Sensitivities.v0 output_required_by_parent +Sensitivities.v0 direct\n",
     "output_type": "error",
     "traceback": [
      "\u001b[0;31m---------------------------------------------------------------------------\u001b[0m",
      "\u001b[0;31mValueError\u001b[0m                                Traceback (most recent call last)",
      "File \u001b[0;32m~/miniconda-recent/lib/python3.9/site-packages/dataanalysis/core.py:1117\u001b[0m, in \u001b[0;36mDataAnalysis.process_run_main\u001b[0;34m(self)\u001b[0m\n\u001b[1;32m   1116\u001b[0m \u001b[39mtry\u001b[39;00m:\n\u001b[0;32m-> 1117\u001b[0m     mr\u001b[39m=\u001b[39m\u001b[39mself\u001b[39;49m\u001b[39m.\u001b[39;49mmain() \u001b[39m# main!\u001b[39;00m\n\u001b[1;32m   1118\u001b[0m \u001b[39mexcept\u001b[39;00m AnalysisException \u001b[39mas\u001b[39;00m ae:\n",
      "File \u001b[0;32m~/miniconda-recent/lib/python3.9/site-packages/dataanalysis/printhook.py:280\u001b[0m, in \u001b[0;36mdecorate_method_log.<locals>.nf\u001b[0;34m(s, *a, **b)\u001b[0m\n\u001b[1;32m    279\u001b[0m \u001b[39mtry\u001b[39;00m:\n\u001b[0;32m--> 280\u001b[0m     function_return\u001b[39m=\u001b[39mf(s,\u001b[39m*\u001b[39;49ma,\u001b[39m*\u001b[39;49m\u001b[39m*\u001b[39;49mb)\n\u001b[1;32m    281\u001b[0m \u001b[39mexcept\u001b[39;00m \u001b[39mException\u001b[39;00m \u001b[39mas\u001b[39;00m e:\n",
      "File \u001b[0;32m~/integral_lvk/counterpart.py:849\u001b[0m, in \u001b[0;36mResponses.main\u001b[0;34m(self)\u001b[0m\n\u001b[1;32m    848\u001b[0m CT\u001b[39m.\u001b[39mdec \u001b[39m=\u001b[39m CT\u001b[39m.\u001b[39msc[\u001b[39m'\u001b[39m\u001b[39mscx\u001b[39m\u001b[39m'\u001b[39m][\u001b[39m'\u001b[39m\u001b[39mdec\u001b[39m\u001b[39m'\u001b[39m]\n\u001b[0;32m--> 849\u001b[0m CT\u001b[39m.\u001b[39;49mcompute_transform_grids()\n\u001b[1;32m    851\u001b[0m responses \u001b[39m=\u001b[39m {}\n",
      "File \u001b[0;32m~/integral_lvk/counterpart.py:1607\u001b[0m, in \u001b[0;36mCounterpart.compute_transform_grids\u001b[0;34m(self)\u001b[0m\n\u001b[1;32m   1606\u001b[0m \u001b[39mdef\u001b[39;00m \u001b[39mcompute_transform_grids\u001b[39m(\u001b[39mself\u001b[39m):\n\u001b[0;32m-> 1607\u001b[0m     sky_coord \u001b[39m=\u001b[39m \u001b[39mself\u001b[39;49m\u001b[39m.\u001b[39;49mget_grid()\n\u001b[1;32m   1608\u001b[0m     \u001b[39mself\u001b[39m\u001b[39m.\u001b[39msky_coord \u001b[39m=\u001b[39m sky_coord\n",
      "File \u001b[0;32m~/integral_lvk/counterpart.py:1604\u001b[0m, in \u001b[0;36mCounterpart.get_grid\u001b[0;34m(self, nside)\u001b[0m\n\u001b[1;32m   1603\u001b[0m \u001b[39m# return SkyCoord(phi, theta, 1, unit=(u.rad, u.rad), representation=\"physicsspherical\")\u001b[39;00m\n\u001b[0;32m-> 1604\u001b[0m \u001b[39mreturn\u001b[39;00m SkyCoord(phi, theta, \u001b[39m1\u001b[39;49m, unit\u001b[39m=\u001b[39;49m(u\u001b[39m.\u001b[39;49mrad, u\u001b[39m.\u001b[39;49mrad))\n",
      "File \u001b[0;32m~/miniconda-recent/lib/python3.9/site-packages/astropy/coordinates/sky_coordinate.py:339\u001b[0m, in \u001b[0;36mSkyCoord.__init__\u001b[0;34m(self, copy, *args, **kwargs)\u001b[0m\n\u001b[1;32m    338\u001b[0m args \u001b[39m=\u001b[39m \u001b[39mlist\u001b[39m(args)  \u001b[39m# Make it mutable\u001b[39;00m\n\u001b[0;32m--> 339\u001b[0m skycoord_kwargs, components, info \u001b[39m=\u001b[39m _parse_coordinate_data(\n\u001b[1;32m    340\u001b[0m     frame_cls(\u001b[39m*\u001b[39;49m\u001b[39m*\u001b[39;49mframe_kwargs), args, kwargs\n\u001b[1;32m    341\u001b[0m )\n\u001b[1;32m    343\u001b[0m \u001b[39m# In the above two parsing functions, these kwargs were identified\u001b[39;00m\n\u001b[1;32m    344\u001b[0m \u001b[39m# as valid frame attributes for *some* frame, but not the frame that\u001b[39;00m\n\u001b[1;32m    345\u001b[0m \u001b[39m# this SkyCoord will have. We keep these attributes as special\u001b[39;00m\n\u001b[1;32m    346\u001b[0m \u001b[39m# skycoord frame attributes:\u001b[39;00m\n",
      "File \u001b[0;32m~/miniconda-recent/lib/python3.9/site-packages/astropy/coordinates/sky_coordinate_parsers.py:314\u001b[0m, in \u001b[0;36m_parse_coordinate_data\u001b[0;34m(frame, args, kwargs)\u001b[0m\n\u001b[1;32m    313\u001b[0m         attr_class \u001b[39m=\u001b[39m frame\u001b[39m.\u001b[39mrepresentation_type\u001b[39m.\u001b[39mattr_classes[repr_attr_name]\n\u001b[0;32m--> 314\u001b[0m         _components[frame_attr_name] \u001b[39m=\u001b[39m attr_class(arg, unit\u001b[39m=\u001b[39;49munit)\n\u001b[1;32m    316\u001b[0m \u001b[39melse\u001b[39;00m:\n",
      "File \u001b[0;32m~/miniconda-recent/lib/python3.9/site-packages/astropy/coordinates/angles.py:542\u001b[0m, in \u001b[0;36mLatitude.__new__\u001b[0;34m(cls, angle, unit, **kwargs)\u001b[0m\n\u001b[1;32m    541\u001b[0m \u001b[39mself\u001b[39m \u001b[39m=\u001b[39m \u001b[39msuper\u001b[39m()\u001b[39m.\u001b[39m\u001b[39m__new__\u001b[39m(\u001b[39mcls\u001b[39m, angle, unit\u001b[39m=\u001b[39munit, \u001b[39m*\u001b[39m\u001b[39m*\u001b[39mkwargs)\n\u001b[0;32m--> 542\u001b[0m \u001b[39mself\u001b[39;49m\u001b[39m.\u001b[39;49m_validate_angles()\n\u001b[1;32m    543\u001b[0m \u001b[39mreturn\u001b[39;00m \u001b[39mself\u001b[39m\n",
      "File \u001b[0;32m~/miniconda-recent/lib/python3.9/site-packages/astropy/coordinates/angles.py:567\u001b[0m, in \u001b[0;36mLatitude._validate_angles\u001b[0;34m(self, angles)\u001b[0m\n\u001b[1;32m    566\u001b[0m \u001b[39mif\u001b[39;00m invalid_angles:\n\u001b[0;32m--> 567\u001b[0m     \u001b[39mraise\u001b[39;00m \u001b[39mValueError\u001b[39;00m(\n\u001b[1;32m    568\u001b[0m         \u001b[39m\"\u001b[39m\u001b[39mLatitude angle(s) must be within -90 deg <= angle <= 90 deg, \u001b[39m\u001b[39m\"\u001b[39m\n\u001b[1;32m    569\u001b[0m         \u001b[39mf\u001b[39m\u001b[39m\"\u001b[39m\u001b[39mgot \u001b[39m\u001b[39m{\u001b[39;00mangles\u001b[39m.\u001b[39mto(u\u001b[39m.\u001b[39mdegree)\u001b[39m}\u001b[39;00m\u001b[39m\"\u001b[39m\n\u001b[1;32m    570\u001b[0m     )\n",
      "\u001b[0;31mValueError\u001b[0m: Latitude angle(s) must be within -90 deg <= angle <= 90 deg, got [  0.18274152   0.18274152   0.18274152 ... 179.81725848 179.81725848\n 179.81725848] deg",
      "\nDuring handling of the above exception, another exception occurred:\n",
      "\u001b[0;31mUnhandledAnalysisException\u001b[0m                Traceback (most recent call last)",
      "\u001b[1;32m/home/savchenk/integral_lvk/gcn.ipynb Cell 7\u001b[0m in \u001b[0;36m<cell line: 7>\u001b[0;34m()\u001b[0m\n\u001b[1;32m      <a href='vscode-notebook-cell:/home/savchenk/integral_lvk/gcn.ipynb#X10sZmlsZQ%3D%3D?line=2'>3</a>\u001b[0m     datafile_restore_mode\u001b[39m=\u001b[39m\u001b[39m'\u001b[39m\u001b[39murl_in_object\u001b[39m\u001b[39m'\u001b[39m\n\u001b[1;32m      <a href='vscode-notebook-cell:/home/savchenk/integral_lvk/gcn.ipynb#X10sZmlsZQ%3D%3D?line=3'>4</a>\u001b[0m     cached\u001b[39m=\u001b[39m\u001b[39mFalse\u001b[39;00m\n\u001b[0;32m----> <a href='vscode-notebook-cell:/home/savchenk/integral_lvk/gcn.ipynb#X10sZmlsZQ%3D%3D?line=6'>7</a>\u001b[0m sens\u001b[39m=\u001b[39mSensitivities()\u001b[39m.\u001b[39;49mget()\n",
      "File \u001b[0;32m~/miniconda-recent/lib/python3.9/site-packages/dataanalysis/core.py:935\u001b[0m, in \u001b[0;36mDataAnalysis.get\u001b[0;34m(self, **aa)\u001b[0m\n\u001b[1;32m    933\u001b[0m     os\u001b[39m.\u001b[39mchdir(wd)\n\u001b[1;32m    934\u001b[0m     log(\u001b[39m\"\u001b[39m\u001b[39mobject will be processed in\u001b[39m\u001b[39m\"\u001b[39m,wd)\n\u001b[0;32m--> 935\u001b[0m     result\u001b[39m=\u001b[39m\u001b[39mself\u001b[39;49m\u001b[39m.\u001b[39;49mprocess(output_required\u001b[39m=\u001b[39;49m\u001b[39mTrue\u001b[39;49;00m,\u001b[39m*\u001b[39;49m\u001b[39m*\u001b[39;49maa)[\u001b[39m1\u001b[39m]\n\u001b[1;32m    936\u001b[0m \u001b[39mexcept\u001b[39;00m:\n\u001b[1;32m    937\u001b[0m     os\u001b[39m.\u001b[39mchdir(cwd)\n",
      "File \u001b[0;32m~/miniconda-recent/lib/python3.9/site-packages/dataanalysis/core.py:1439\u001b[0m, in \u001b[0;36mDataAnalysis.process\u001b[0;34m(self, process_function, restore_rules, restore_config, requested_by, **extra)\u001b[0m\n\u001b[1;32m   1435\u001b[0m     log(\u001b[39m\"\u001b[39m\u001b[39mneed to guarantee that explicit input is available\u001b[39m\u001b[39m\"\u001b[39m)\n\u001b[1;32m   1437\u001b[0m     \u001b[39m## if output has to be generated, but explicite input was not prepared, do it\u001b[39;00m\n\u001b[1;32m   1438\u001b[0m     \u001b[39m## process\u001b[39;00m\n\u001b[0;32m-> 1439\u001b[0m     \u001b[39mreturn\u001b[39;00m \u001b[39mself\u001b[39;49m\u001b[39m.\u001b[39;49mprocess(process_function\u001b[39m=\u001b[39;49mprocess_function,\n\u001b[1;32m   1440\u001b[0m                         restore_rules\u001b[39m=\u001b[39;49mupdate_dict(restore_rules,\u001b[39mdict\u001b[39;49m(explicit_input_required\u001b[39m=\u001b[39;49m\u001b[39mTrue\u001b[39;49;00m)),requested_by\u001b[39m=\u001b[39;49m[\u001b[39m'\u001b[39;49m\u001b[39moutput_required_by_parent\u001b[39;49m\u001b[39m'\u001b[39;49m]\u001b[39m+\u001b[39;49mrequested_by )\n\u001b[1;32m   1441\u001b[0m                         \u001b[39m#restore_rules=update_dict(restore_rules,dict(output_required=True,explicit_input_required=True)) )\u001b[39;00m\n\u001b[1;32m   1442\u001b[0m     \u001b[39m##  /process\u001b[39;00m\n\u001b[1;32m   1445\u001b[0m \u001b[39mif\u001b[39;00m restore_rules[\u001b[39m'\u001b[39m\u001b[39mcan_delegate\u001b[39m\u001b[39m'\u001b[39m] \u001b[39mand\u001b[39;00m \u001b[39mself\u001b[39m\u001b[39m.\u001b[39mcached:\n",
      "File \u001b[0;32m~/miniconda-recent/lib/python3.9/site-packages/dataanalysis/core.py:1369\u001b[0m, in \u001b[0;36mDataAnalysis.process\u001b[0;34m(self, process_function, restore_rules, restore_config, requested_by, **extra)\u001b[0m\n\u001b[1;32m   1365\u001b[0m \u001b[39mif\u001b[39;00m restore_rules[\u001b[39m'\u001b[39m\u001b[39mexplicit_input_required\u001b[39m\u001b[39m'\u001b[39m]:\n\u001b[1;32m   1366\u001b[0m     \u001b[39mself\u001b[39m\u001b[39m.\u001b[39mprocess_hooks(\u001b[39m\"\u001b[39m\u001b[39mtop\u001b[39m\u001b[39m\"\u001b[39m, \u001b[39mself\u001b[39m, message\u001b[39m=\u001b[39m\u001b[39m\"\u001b[39m\u001b[39mtreating dependencies\u001b[39m\u001b[39m\"\u001b[39m,\n\u001b[1;32m   1367\u001b[0m              hashe\u001b[39m=\u001b[39m\u001b[39mgetattr\u001b[39m(\u001b[39mself\u001b[39m, \u001b[39m'\u001b[39m\u001b[39m_da_expected_full_hashe\u001b[39m\u001b[39m'\u001b[39m, \u001b[39m\"\u001b[39m\u001b[39munknown\u001b[39m\u001b[39m\"\u001b[39m))\n\u001b[0;32m-> 1369\u001b[0m input_hash,\u001b[39minput\u001b[39m\u001b[39m=\u001b[39m\u001b[39mself\u001b[39;49m\u001b[39m.\u001b[39;49mprocess_input(obj\u001b[39m=\u001b[39;49m\u001b[39mNone\u001b[39;49;00m,\n\u001b[1;32m   1370\u001b[0m                                     process_function\u001b[39m=\u001b[39;49mprocess_function,\n\u001b[1;32m   1371\u001b[0m                                     restore_rules\u001b[39m=\u001b[39;49mupdate_dict(restore_rules,\u001b[39mdict\u001b[39;49m(\n\u001b[1;32m   1372\u001b[0m                                                                                     output_required\u001b[39m=\u001b[39;49m\u001b[39mFalse\u001b[39;49;00m,\n\u001b[1;32m   1373\u001b[0m                                                                                     can_delegate\u001b[39m=\u001b[39;49mrestore_rules[\u001b[39m'\u001b[39;49m\u001b[39mcan_delegate_input\u001b[39;49m\u001b[39m'\u001b[39;49m])),\n\u001b[1;32m   1374\u001b[0m                                     requested_by\u001b[39m=\u001b[39;49m[\u001b[39m\"\u001b[39;49m\u001b[39minput_of\u001b[39;49m\u001b[39m\"\u001b[39;49m]\u001b[39m+\u001b[39;49mrequested_by)\n\u001b[1;32m   1376\u001b[0m \u001b[39mif\u001b[39;00m restore_rules[\u001b[39m'\u001b[39m\u001b[39mexplicit_input_required\u001b[39m\u001b[39m'\u001b[39m]:\n\u001b[1;32m   1377\u001b[0m     \u001b[39mself\u001b[39m\u001b[39m.\u001b[39mprocess_hooks(\u001b[39m\"\u001b[39m\u001b[39mtop\u001b[39m\u001b[39m\"\u001b[39m, \u001b[39mself\u001b[39m, message\u001b[39m=\u001b[39m\u001b[39m\"\u001b[39m\u001b[39mdependencies ready\u001b[39m\u001b[39m\"\u001b[39m,\n\u001b[1;32m   1378\u001b[0m              hashe\u001b[39m=\u001b[39m\u001b[39mgetattr\u001b[39m(\u001b[39mself\u001b[39m, \u001b[39m'\u001b[39m\u001b[39m_da_expected_full_hashe\u001b[39m\u001b[39m'\u001b[39m, \u001b[39m\"\u001b[39m\u001b[39munknown\u001b[39m\u001b[39m\"\u001b[39m))\n",
      "File \u001b[0;32m~/miniconda-recent/lib/python3.9/site-packages/dataanalysis/core.py:1689\u001b[0m, in \u001b[0;36mDataAnalysis.process_input\u001b[0;34m(self, obj, restore_rules, restore_config, requested_by, **extra)\u001b[0m\n\u001b[1;32m   1686\u001b[0m     \u001b[39mraise\u001b[39;00m \u001b[39mException\u001b[39;00m(\u001b[39m\"\u001b[39m\u001b[39minput is None: virtual class: \u001b[39m\u001b[39m\"\u001b[39m\u001b[39m+\u001b[39m\u001b[39mrepr\u001b[39m(\u001b[39mself\u001b[39m)\u001b[39m+\u001b[39m\u001b[39m\"\u001b[39m\u001b[39m input \u001b[39m\u001b[39m\"\u001b[39m\u001b[39m+\u001b[39ma\u001b[39m+\u001b[39m\u001b[39m\"\u001b[39m\u001b[39m requested by \u001b[39m\u001b[39m\"\u001b[39m\u001b[39m+\u001b[39m\u001b[39m\"\u001b[39m\u001b[39m \u001b[39m\u001b[39m\"\u001b[39m\u001b[39m.\u001b[39mjoin(requested_by))\n\u001b[1;32m   1688\u001b[0m \u001b[39mtry\u001b[39;00m:\n\u001b[0;32m-> 1689\u001b[0m     h,l\u001b[39m=\u001b[39m\u001b[39mself\u001b[39;49m\u001b[39m.\u001b[39;49mprocess_input(obj\u001b[39m=\u001b[39;49mo,restore_rules\u001b[39m=\u001b[39;49mrestore_rules,restore_config\u001b[39m=\u001b[39;49mrestore_config,requested_by\u001b[39m=\u001b[39;49mrequested_by)\n\u001b[1;32m   1690\u001b[0m \u001b[39mexcept\u001b[39;00m AnalysisDelegatedException \u001b[39mas\u001b[39;00m delegated_exception:\n\u001b[1;32m   1691\u001b[0m     delegated\u001b[39m.\u001b[39mappend(delegated_exception)\n",
      "File \u001b[0;32m~/miniconda-recent/lib/python3.9/site-packages/dataanalysis/core.py:1781\u001b[0m, in \u001b[0;36mDataAnalysis.process_input\u001b[0;34m(self, obj, restore_rules, restore_config, requested_by, **extra)\u001b[0m\n\u001b[1;32m   1779\u001b[0m \u001b[39mexcept\u001b[39;00m \u001b[39mException\u001b[39;00m \u001b[39mas\u001b[39;00m e:\n\u001b[1;32m   1780\u001b[0m     \u001b[39mraise\u001b[39;00m \u001b[39mException\u001b[39;00m(\u001b[39mstr\u001b[39m(item)\u001b[39m+\u001b[39m\u001b[39m\"\u001b[39m\u001b[39m has no locally complete!\u001b[39m\u001b[39m\"\u001b[39m)\n\u001b[0;32m-> 1781\u001b[0m input_hash,newitem \u001b[39m=\u001b[39m item\u001b[39m.\u001b[39;49mprocess(\n\u001b[1;32m   1782\u001b[0m                         restore_rules\u001b[39m=\u001b[39;49mrr,\n\u001b[1;32m   1783\u001b[0m                         restore_config\u001b[39m=\u001b[39;49mrestore_config,\n\u001b[1;32m   1784\u001b[0m                         requested_by\u001b[39m=\u001b[39;49mrequested_by, \n\u001b[1;32m   1785\u001b[0m                         callback_url\u001b[39m=\u001b[39;49m\u001b[39mself\u001b[39;49m\u001b[39m.\u001b[39;49mcallbacks\n\u001b[1;32m   1786\u001b[0m                     ) \u001b[39m# recursively for all inputs process input\u001b[39;00m\n\u001b[1;32m   1787\u001b[0m log(\u001b[39m\"\u001b[39m\u001b[39mprocess_input finishing at the end\u001b[39m\u001b[39m\"\u001b[39m,input_hash,newitem)\n\u001b[1;32m   1789\u001b[0m \u001b[39mreturn\u001b[39;00m input_hash,newitem\n",
      "File \u001b[0;32m~/miniconda-recent/lib/python3.9/site-packages/dataanalysis/core.py:1439\u001b[0m, in \u001b[0;36mDataAnalysis.process\u001b[0;34m(self, process_function, restore_rules, restore_config, requested_by, **extra)\u001b[0m\n\u001b[1;32m   1435\u001b[0m     log(\u001b[39m\"\u001b[39m\u001b[39mneed to guarantee that explicit input is available\u001b[39m\u001b[39m\"\u001b[39m)\n\u001b[1;32m   1437\u001b[0m     \u001b[39m## if output has to be generated, but explicite input was not prepared, do it\u001b[39;00m\n\u001b[1;32m   1438\u001b[0m     \u001b[39m## process\u001b[39;00m\n\u001b[0;32m-> 1439\u001b[0m     \u001b[39mreturn\u001b[39;00m \u001b[39mself\u001b[39;49m\u001b[39m.\u001b[39;49mprocess(process_function\u001b[39m=\u001b[39;49mprocess_function,\n\u001b[1;32m   1440\u001b[0m                         restore_rules\u001b[39m=\u001b[39;49mupdate_dict(restore_rules,\u001b[39mdict\u001b[39;49m(explicit_input_required\u001b[39m=\u001b[39;49m\u001b[39mTrue\u001b[39;49;00m)),requested_by\u001b[39m=\u001b[39;49m[\u001b[39m'\u001b[39;49m\u001b[39moutput_required_by_parent\u001b[39;49m\u001b[39m'\u001b[39;49m]\u001b[39m+\u001b[39;49mrequested_by )\n\u001b[1;32m   1441\u001b[0m                         \u001b[39m#restore_rules=update_dict(restore_rules,dict(output_required=True,explicit_input_required=True)) )\u001b[39;00m\n\u001b[1;32m   1442\u001b[0m     \u001b[39m##  /process\u001b[39;00m\n\u001b[1;32m   1445\u001b[0m \u001b[39mif\u001b[39;00m restore_rules[\u001b[39m'\u001b[39m\u001b[39mcan_delegate\u001b[39m\u001b[39m'\u001b[39m] \u001b[39mand\u001b[39;00m \u001b[39mself\u001b[39m\u001b[39m.\u001b[39mcached:\n",
      "File \u001b[0;32m~/miniconda-recent/lib/python3.9/site-packages/dataanalysis/core.py:1369\u001b[0m, in \u001b[0;36mDataAnalysis.process\u001b[0;34m(self, process_function, restore_rules, restore_config, requested_by, **extra)\u001b[0m\n\u001b[1;32m   1365\u001b[0m \u001b[39mif\u001b[39;00m restore_rules[\u001b[39m'\u001b[39m\u001b[39mexplicit_input_required\u001b[39m\u001b[39m'\u001b[39m]:\n\u001b[1;32m   1366\u001b[0m     \u001b[39mself\u001b[39m\u001b[39m.\u001b[39mprocess_hooks(\u001b[39m\"\u001b[39m\u001b[39mtop\u001b[39m\u001b[39m\"\u001b[39m, \u001b[39mself\u001b[39m, message\u001b[39m=\u001b[39m\u001b[39m\"\u001b[39m\u001b[39mtreating dependencies\u001b[39m\u001b[39m\"\u001b[39m,\n\u001b[1;32m   1367\u001b[0m              hashe\u001b[39m=\u001b[39m\u001b[39mgetattr\u001b[39m(\u001b[39mself\u001b[39m, \u001b[39m'\u001b[39m\u001b[39m_da_expected_full_hashe\u001b[39m\u001b[39m'\u001b[39m, \u001b[39m\"\u001b[39m\u001b[39munknown\u001b[39m\u001b[39m\"\u001b[39m))\n\u001b[0;32m-> 1369\u001b[0m input_hash,\u001b[39minput\u001b[39m\u001b[39m=\u001b[39m\u001b[39mself\u001b[39;49m\u001b[39m.\u001b[39;49mprocess_input(obj\u001b[39m=\u001b[39;49m\u001b[39mNone\u001b[39;49;00m,\n\u001b[1;32m   1370\u001b[0m                                     process_function\u001b[39m=\u001b[39;49mprocess_function,\n\u001b[1;32m   1371\u001b[0m                                     restore_rules\u001b[39m=\u001b[39;49mupdate_dict(restore_rules,\u001b[39mdict\u001b[39;49m(\n\u001b[1;32m   1372\u001b[0m                                                                                     output_required\u001b[39m=\u001b[39;49m\u001b[39mFalse\u001b[39;49;00m,\n\u001b[1;32m   1373\u001b[0m                                                                                     can_delegate\u001b[39m=\u001b[39;49mrestore_rules[\u001b[39m'\u001b[39;49m\u001b[39mcan_delegate_input\u001b[39;49m\u001b[39m'\u001b[39;49m])),\n\u001b[1;32m   1374\u001b[0m                                     requested_by\u001b[39m=\u001b[39;49m[\u001b[39m\"\u001b[39;49m\u001b[39minput_of\u001b[39;49m\u001b[39m\"\u001b[39;49m]\u001b[39m+\u001b[39;49mrequested_by)\n\u001b[1;32m   1376\u001b[0m \u001b[39mif\u001b[39;00m restore_rules[\u001b[39m'\u001b[39m\u001b[39mexplicit_input_required\u001b[39m\u001b[39m'\u001b[39m]:\n\u001b[1;32m   1377\u001b[0m     \u001b[39mself\u001b[39m\u001b[39m.\u001b[39mprocess_hooks(\u001b[39m\"\u001b[39m\u001b[39mtop\u001b[39m\u001b[39m\"\u001b[39m, \u001b[39mself\u001b[39m, message\u001b[39m=\u001b[39m\u001b[39m\"\u001b[39m\u001b[39mdependencies ready\u001b[39m\u001b[39m\"\u001b[39m,\n\u001b[1;32m   1378\u001b[0m              hashe\u001b[39m=\u001b[39m\u001b[39mgetattr\u001b[39m(\u001b[39mself\u001b[39m, \u001b[39m'\u001b[39m\u001b[39m_da_expected_full_hashe\u001b[39m\u001b[39m'\u001b[39m, \u001b[39m\"\u001b[39m\u001b[39munknown\u001b[39m\u001b[39m\"\u001b[39m))\n",
      "File \u001b[0;32m~/miniconda-recent/lib/python3.9/site-packages/dataanalysis/core.py:1689\u001b[0m, in \u001b[0;36mDataAnalysis.process_input\u001b[0;34m(self, obj, restore_rules, restore_config, requested_by, **extra)\u001b[0m\n\u001b[1;32m   1686\u001b[0m     \u001b[39mraise\u001b[39;00m \u001b[39mException\u001b[39;00m(\u001b[39m\"\u001b[39m\u001b[39minput is None: virtual class: \u001b[39m\u001b[39m\"\u001b[39m\u001b[39m+\u001b[39m\u001b[39mrepr\u001b[39m(\u001b[39mself\u001b[39m)\u001b[39m+\u001b[39m\u001b[39m\"\u001b[39m\u001b[39m input \u001b[39m\u001b[39m\"\u001b[39m\u001b[39m+\u001b[39ma\u001b[39m+\u001b[39m\u001b[39m\"\u001b[39m\u001b[39m requested by \u001b[39m\u001b[39m\"\u001b[39m\u001b[39m+\u001b[39m\u001b[39m\"\u001b[39m\u001b[39m \u001b[39m\u001b[39m\"\u001b[39m\u001b[39m.\u001b[39mjoin(requested_by))\n\u001b[1;32m   1688\u001b[0m \u001b[39mtry\u001b[39;00m:\n\u001b[0;32m-> 1689\u001b[0m     h,l\u001b[39m=\u001b[39m\u001b[39mself\u001b[39;49m\u001b[39m.\u001b[39;49mprocess_input(obj\u001b[39m=\u001b[39;49mo,restore_rules\u001b[39m=\u001b[39;49mrestore_rules,restore_config\u001b[39m=\u001b[39;49mrestore_config,requested_by\u001b[39m=\u001b[39;49mrequested_by)\n\u001b[1;32m   1690\u001b[0m \u001b[39mexcept\u001b[39;00m AnalysisDelegatedException \u001b[39mas\u001b[39;00m delegated_exception:\n\u001b[1;32m   1691\u001b[0m     delegated\u001b[39m.\u001b[39mappend(delegated_exception)\n",
      "File \u001b[0;32m~/miniconda-recent/lib/python3.9/site-packages/dataanalysis/core.py:1781\u001b[0m, in \u001b[0;36mDataAnalysis.process_input\u001b[0;34m(self, obj, restore_rules, restore_config, requested_by, **extra)\u001b[0m\n\u001b[1;32m   1779\u001b[0m \u001b[39mexcept\u001b[39;00m \u001b[39mException\u001b[39;00m \u001b[39mas\u001b[39;00m e:\n\u001b[1;32m   1780\u001b[0m     \u001b[39mraise\u001b[39;00m \u001b[39mException\u001b[39;00m(\u001b[39mstr\u001b[39m(item)\u001b[39m+\u001b[39m\u001b[39m\"\u001b[39m\u001b[39m has no locally complete!\u001b[39m\u001b[39m\"\u001b[39m)\n\u001b[0;32m-> 1781\u001b[0m input_hash,newitem \u001b[39m=\u001b[39m item\u001b[39m.\u001b[39;49mprocess(\n\u001b[1;32m   1782\u001b[0m                         restore_rules\u001b[39m=\u001b[39;49mrr,\n\u001b[1;32m   1783\u001b[0m                         restore_config\u001b[39m=\u001b[39;49mrestore_config,\n\u001b[1;32m   1784\u001b[0m                         requested_by\u001b[39m=\u001b[39;49mrequested_by, \n\u001b[1;32m   1785\u001b[0m                         callback_url\u001b[39m=\u001b[39;49m\u001b[39mself\u001b[39;49m\u001b[39m.\u001b[39;49mcallbacks\n\u001b[1;32m   1786\u001b[0m                     ) \u001b[39m# recursively for all inputs process input\u001b[39;00m\n\u001b[1;32m   1787\u001b[0m log(\u001b[39m\"\u001b[39m\u001b[39mprocess_input finishing at the end\u001b[39m\u001b[39m\"\u001b[39m,input_hash,newitem)\n\u001b[1;32m   1789\u001b[0m \u001b[39mreturn\u001b[39;00m input_hash,newitem\n",
      "File \u001b[0;32m~/miniconda-recent/lib/python3.9/site-packages/dataanalysis/core.py:1439\u001b[0m, in \u001b[0;36mDataAnalysis.process\u001b[0;34m(self, process_function, restore_rules, restore_config, requested_by, **extra)\u001b[0m\n\u001b[1;32m   1435\u001b[0m     log(\u001b[39m\"\u001b[39m\u001b[39mneed to guarantee that explicit input is available\u001b[39m\u001b[39m\"\u001b[39m)\n\u001b[1;32m   1437\u001b[0m     \u001b[39m## if output has to be generated, but explicite input was not prepared, do it\u001b[39;00m\n\u001b[1;32m   1438\u001b[0m     \u001b[39m## process\u001b[39;00m\n\u001b[0;32m-> 1439\u001b[0m     \u001b[39mreturn\u001b[39;00m \u001b[39mself\u001b[39;49m\u001b[39m.\u001b[39;49mprocess(process_function\u001b[39m=\u001b[39;49mprocess_function,\n\u001b[1;32m   1440\u001b[0m                         restore_rules\u001b[39m=\u001b[39;49mupdate_dict(restore_rules,\u001b[39mdict\u001b[39;49m(explicit_input_required\u001b[39m=\u001b[39;49m\u001b[39mTrue\u001b[39;49;00m)),requested_by\u001b[39m=\u001b[39;49m[\u001b[39m'\u001b[39;49m\u001b[39moutput_required_by_parent\u001b[39;49m\u001b[39m'\u001b[39;49m]\u001b[39m+\u001b[39;49mrequested_by )\n\u001b[1;32m   1441\u001b[0m                         \u001b[39m#restore_rules=update_dict(restore_rules,dict(output_required=True,explicit_input_required=True)) )\u001b[39;00m\n\u001b[1;32m   1442\u001b[0m     \u001b[39m##  /process\u001b[39;00m\n\u001b[1;32m   1445\u001b[0m \u001b[39mif\u001b[39;00m restore_rules[\u001b[39m'\u001b[39m\u001b[39mcan_delegate\u001b[39m\u001b[39m'\u001b[39m] \u001b[39mand\u001b[39;00m \u001b[39mself\u001b[39m\u001b[39m.\u001b[39mcached:\n",
      "File \u001b[0;32m~/miniconda-recent/lib/python3.9/site-packages/dataanalysis/core.py:1479\u001b[0m, in \u001b[0;36mDataAnalysis.process\u001b[0;34m(self, process_function, restore_rules, restore_config, requested_by, **extra)\u001b[0m\n\u001b[1;32m   1475\u001b[0m     \u001b[39m#return fih, self # RETURN!\u001b[39;00m\n\u001b[1;32m   1477\u001b[0m \u001b[39mif\u001b[39;00m restore_rules[\u001b[39m'\u001b[39m\u001b[39mrun_if_haveto\u001b[39m\u001b[39m'\u001b[39m] \u001b[39mor\u001b[39;00m \u001b[39mself\u001b[39m\u001b[39m.\u001b[39mrun_for_hashe:\n\u001b[0;32m-> 1479\u001b[0m     mr\u001b[39m=\u001b[39m\u001b[39mself\u001b[39;49m\u001b[39m.\u001b[39;49mprocess_run_main() \u001b[39m# MAIN!\u001b[39;00m\n\u001b[1;32m   1481\u001b[0m     \u001b[39m# failing should lead to checking cache\u001b[39;00m\n\u001b[1;32m   1483\u001b[0m     \u001b[39mself\u001b[39m\u001b[39m.\u001b[39mprocess_timespent_interpret()\n",
      "File \u001b[0;32m~/miniconda-recent/lib/python3.9/site-packages/dataanalysis/core.py:1135\u001b[0m, in \u001b[0;36mDataAnalysis.process_run_main\u001b[0;34m(self)\u001b[0m\n\u001b[1;32m   1131\u001b[0m         log(\u001b[39m\"\u001b[39m\u001b[39munable to report exception!\u001b[39m\u001b[39m\"\u001b[39m)\n\u001b[1;32m   1133\u001b[0m     \u001b[39mself\u001b[39m\u001b[39m.\u001b[39mprocess_hooks(\u001b[39m\"\u001b[39m\u001b[39mtop\u001b[39m\u001b[39m\"\u001b[39m,\u001b[39mself\u001b[39m,message\u001b[39m=\u001b[39m\u001b[39m\"\u001b[39m\u001b[39munhandled exception\u001b[39m\u001b[39m\"\u001b[39m,exception\u001b[39m=\u001b[39m\u001b[39mrepr\u001b[39m(ex),mainlog\u001b[39m=\u001b[39mmain_log\u001b[39m.\u001b[39mgetvalue(),state\u001b[39m=\u001b[39m\u001b[39m\"\u001b[39m\u001b[39mnode_unhandled_exception\u001b[39m\u001b[39m\"\u001b[39m)\n\u001b[0;32m-> 1135\u001b[0m     \u001b[39mraise\u001b[39;00m UnhandledAnalysisException(\n\u001b[1;32m   1136\u001b[0m         analysis_node\u001b[39m=\u001b[39m\u001b[39mself\u001b[39m,\n\u001b[1;32m   1137\u001b[0m         main_log\u001b[39m=\u001b[39mmain_log\u001b[39m.\u001b[39mgetvalue(),\n\u001b[1;32m   1138\u001b[0m         exception\u001b[39m=\u001b[39mex,\n\u001b[1;32m   1139\u001b[0m     )\n\u001b[1;32m   1140\u001b[0m \u001b[39mself\u001b[39m\u001b[39m.\u001b[39mstop_main_watchdog()\n\u001b[1;32m   1142\u001b[0m main_logstream\u001b[39m.\u001b[39mforget()\n",
      "\u001b[0;31mUnhandledAnalysisException\u001b[0m: \n\n>>> main log\n>>> \u001b[0;36m2023-05-18T15:39:11.9\u001b[0m [\u001b[94mterpart.py: 843\u001b[0m\u001b[93m[Responses.v0;NoneIn\u001b[0m; \u001b[0;36m      main\u001b[0m: sides from target: 256\n>>> \n\nTraceback (most recent call last):\n  File \"/home/savchenk/miniconda-recent/lib/python3.9/site-packages/dataanalysis/core.py\", line 1117, in process_run_main\n    mr=self.main() # main!\n  File \"/home/savchenk/miniconda-recent/lib/python3.9/site-packages/dataanalysis/printhook.py\", line 280, in nf\n    function_return=f(s,*a,**b)\n  File \"/home/savchenk/integral_lvk/counterpart.py\", line 849, in main\n    CT.compute_transform_grids()\n  File \"/home/savchenk/integral_lvk/counterpart.py\", line 1607, in compute_transform_grids\n    sky_coord = self.get_grid()\n  File \"/home/savchenk/integral_lvk/counterpart.py\", line 1604, in get_grid\n    return SkyCoord(phi, theta, 1, unit=(u.rad, u.rad))\n  File \"/home/savchenk/miniconda-recent/lib/python3.9/site-packages/astropy/coordinates/sky_coordinate.py\", line 339, in __init__\n    skycoord_kwargs, components, info = _parse_coordinate_data(\n  File \"/home/savchenk/miniconda-recent/lib/python3.9/site-packages/astropy/coordinates/sky_coordinate_parsers.py\", line 314, in _parse_coordinate_data\n    _components[frame_attr_name] = attr_class(arg, unit=unit)\n  File \"/home/savchenk/miniconda-recent/lib/python3.9/site-packages/astropy/coordinates/angles.py\", line 542, in __new__\n    self._validate_angles()\n  File \"/home/savchenk/miniconda-recent/lib/python3.9/site-packages/astropy/coordinates/angles.py\", line 567, in _validate_angles\n    raise ValueError(\nValueError: Latitude angle(s) must be within -90 deg <= angle <= 90 deg, got [  0.18274152   0.18274152   0.18274152 ... 179.81725848 179.81725848\n 179.81725848] deg\n\n>>> ValueError('Latitude angle(s) must be within -90 deg <= angle <= 90 deg, got [  0.18274152   0.18274152   0.18274152 ... 179.81725848 179.81725848\\n 179.81725848] deg')\n\nin DataAnalysis node: [Responses.v0;NoneInTheInput]\nrequested by: +Responses.v0 output_required_by_parent +Responses.v0 input_of +SensitivityMaps.v0 output_required_by_parent +SensitivityMaps.v0 input_of +Sensitivities.v0 output_required_by_parent +Sensitivities.v0 direct\n"
     ]
    }
   ],
   "source": [
    "\n",
    "class Sensitivities(counterpart.Sensitivities):\n",
    "    minsolarangle=40\n",
    "    datafile_restore_mode='url_in_object'\n",
    "    cached=False\n",
    "    \n",
    "    \n",
    "sens=Sensitivities().get()\n",
    "\n",
    "#if len(sens.get_exceptions()) == 0:\n",
    "#    sens.plot_fancy()\n"
   ]
  },
  {
   "cell_type": "code",
   "execution_count": null,
   "metadata": {},
   "outputs": [],
   "source": [
    "import integralvisibility\n",
    "sun=integralvisibility.ephem.Sun(\"2018-09-11\")\n",
    "#sun=ephem.Sun(ijd-ijd02-ephem.Date(\"2002/01/01\"))\n",
    "sun_coord=SkyCoord(sun.ra,sun.dec,unit=u.rad,representation=\"spherical\")\n",
    "sun_coord.separation(SkyCoord(144.58,-2.13,unit='deg'))"
   ]
  },
  {
   "cell_type": "code",
   "execution_count": null,
   "metadata": {},
   "outputs": [],
   "source": [
    "if len(sens.get_exceptions()) == 0:\n",
    "    bs=counterpart.BackgroundStabilityAssertion()\n",
    "    cl=bs.input_countlimits().get()\n",
    "\n",
    "    for k,v in cl.hk.items():\n",
    "        for kk,vv in v.items():\n",
    "            print(k,kk,vv['excvar'])"
   ]
  },
  {
   "cell_type": "code",
   "execution_count": null,
   "metadata": {},
   "outputs": [],
   "source": [
    "import datetime\n",
    "now_utc=datetime.datetime.strftime(datetime.datetime.now(),\"%Y-%m-%dT%H:%M:%S\")\n",
    "now_ijd=float(ic.converttime(\"UTC\",now_utc,\"IJD\"))"
   ]
  },
  {
   "cell_type": "code",
   "execution_count": null,
   "metadata": {},
   "outputs": [],
   "source": [
    "\n",
    "ic_ijd=float(ic.converttime(\"UTC\", ICE.event_time['utc'], \"IJD\"))\n"
   ]
  },
  {
   "cell_type": "code",
   "execution_count": null,
   "metadata": {},
   "outputs": [],
   "source": [
    "da.byname('Sensitivities').get()._da_locally_complete"
   ]
  },
  {
   "cell_type": "code",
   "execution_count": null,
   "metadata": {},
   "outputs": [],
   "source": [
    "#da.reset()\n",
    "\n",
    "class FinalComment(counterpart.DataAnalysis):\n",
    "    input_ic=ICE\n",
    "\n",
    "    read_caches=[]\n",
    "    cached=True\n",
    "\n",
    "    def main(self):\n",
    "        self.comment=\"\"\n",
    "        \n",
    "FinalComment().get()"
   ]
  },
  {
   "cell_type": "code",
   "execution_count": null,
   "metadata": {},
   "outputs": [],
   "source": [
    "data={}\n",
    "\n",
    "data['datesource'] = datasource\n",
    "\n",
    "\n",
    "define_event()().get()\n",
    "\n",
    "#for obj in [ic, counterpart.Sensitivities, counterpart.ScSystem, counterpart.OperationsReport, counterpart.CountLimits, counterpart.BackgroundStabilityAssertion, counterpart.OrientationComment, counterpart.FinalComment]:\n",
    "for cls in [counterpart.Event, counterpart.FinalComment, counterpart.Sensitivities, counterpart.ScSystem, counterpart.OperationsReport, counterpart.CountLimits, counterpart.BackgroundStabilityAssertion, counterpart.OrientationComment, counterpart.FinalComment, counterpart.DetectionSummary]:\n",
    "    obj = da.byname(cls().get_factory_name()).get()\n",
    "        \n",
    "    obj.datafile_restore_mode = 'url_in_object'\n",
    "    data[obj.__class__.__name__]=obj.export_data(include_class_attributes=True)"
   ]
  },
  {
   "cell_type": "code",
   "execution_count": null,
   "metadata": {},
   "outputs": [],
   "source": [
    "data['DetectionSummary'].get('txt'),data['DetectionSummary'].get('detection_decision',None)"
   ]
  },
  {
   "cell_type": "code",
   "execution_count": null,
   "metadata": {},
   "outputs": [],
   "source": [
    "data['DetectionSummary']"
   ]
  },
  {
   "cell_type": "code",
   "execution_count": null,
   "metadata": {},
   "outputs": [],
   "source": [
    "#data['integral']\n",
    "revnum = ic.converttime(\"UTC\", t0_utc, \"REVNUM\")\n",
    "\n",
    "\n",
    "if False:\n",
    "    \n",
    "\n",
    "    data['integral']=dict(orbit_before=revnum,\n",
    "                          orbit_after=\"%.4i\"%(int(revnum)+1),\n",
    "                          first_data_utc=\"\"\n",
    "                         )\n",
    "\n",
    "    print(\"data\",data['integral'])\n",
    "\n",
    "    try:\n",
    "        first_scw_utc = ic.converttime(\"SCWID\", data['integral']['orbit_after']+\"00010010\", \"UTC\").split()[0]\n",
    "\n",
    "        import time\n",
    "\n",
    "        if False:\n",
    "            while True:\n",
    "                try:\n",
    "                    firstacs = ic.get_hk(utc=first_scw_utc,target=\"ACS\",span=5000)\n",
    "                    break\n",
    "                except counterpart.ic.ServiceException as e:\n",
    "                    print(e)\n",
    "                    time.sleep(1)\n",
    "\n",
    "\n",
    "        print(first_scw_utc)\n",
    "        first_scw_ijd = ic.converttime(\"UTC\",first_scw_utc,\"IJD\")\n",
    "\n",
    "        import isdcclient\n",
    "        isc = isdcclient.ISDCClient()\n",
    "\n",
    "        acs = isc.genlc(\"ACS\",first_scw_utc,\"5000\",format='numpy')\n",
    "        first_data_ijd = acs[:,0][acs[:,2]>0][0]\n",
    "        first_data_utc = ic.converttime(\"IJD\",first_data_ijd,\"UTC\")\n",
    "\n",
    "        before_rev_ijd = float(ic.converttime(\"REVNUM\",revnum,\"IJD\").split()[2])\n",
    "\n",
    "        acs = isc.genlc(\"ACS\",\"%.20lg\"%(before_rev_ijd-5./24.),\"%.20lg\"%(4.5*3600),format='numpy')\n",
    "\n",
    "\n",
    "\n",
    "        last_data_ijd = acs[:,0][acs[:,2]>0][-1]\n",
    "        last_data_utc = ic.converttime(\"IJD\",last_data_ijd,\"UTC\")\n",
    "\n",
    "        print(\"last data\",last_data_utc)\n",
    "\n",
    "        last_data_ijd,last_data_utc\n",
    "\n",
    "\n",
    "        data['integral']['last_data_utc'] = last_data_utc\n",
    "        data['integral']['last_data_ijd'] = last_data_ijd\n",
    "\n",
    "        data['integral']['first_data_utc'] = first_data_utc\n",
    "        data['integral']['first_data_ijd'] = first_data_ijd\n",
    "    except Exception as e:\n",
    "        print(\"not yet\",e)"
   ]
  },
  {
   "cell_type": "code",
   "execution_count": null,
   "metadata": {},
   "outputs": [],
   "source": [
    "import workflows\n",
    "d=workflows.evaluate('odahub', 'integral-observation-summary', 'status', when_utc=t0_utc)\n",
    "\n",
    "if 'expected_data_status' not in d['data']['prophecy_summary']:\n",
    "    data['integral']=dict(orbit_before=revnum,\n",
    "                              orbit_after=\"%.4i\"%(int(revnum)+1),\n",
    "                              last_data_utc=\"UNKNOWN\",\n",
    "                              first_data_utc=\"UNKNOWN\",\n",
    "                             )\n",
    "elif d['data']['prophecy_summary']['expected_data_status'] == \"OFFLINE\" or \\\n",
    "    d['data']['rtstatus'] == \"OFFLINE\":\n",
    "\n",
    "    data['integral']=dict(orbit_before=revnum,\n",
    "                              orbit_after=\"%.4i\"%(int(revnum)+1),\n",
    "                              last_data_utc=str(d['data']['prophecy_summary']['last_data_utc']),\n",
    "                              first_data_utc=str(d['data']['prophecy_summary']['next_data_utc']),\n",
    "                             )\n",
    "\n",
    "    try:\n",
    "        data['integral']['first_data_ijd']=ic.converttime(\"UTC\", d['data']['prophecy_summary']['next_data_utc'], 'IJD')\n",
    "        data['integral']['last_data_ijd']=ic.converttime(\"UTC\", d['data']['prophecy_summary']['last_data_utc'], 'IJD')\n",
    "    except Exception as e:\n",
    "        print(\"unable to get prophecy ijd!\", d['data']['prophecy_summary']['next_data_utc'], d['data']['prophecy_summary']['last_data_utc'])\n",
    "        data['integral']['first_data_ijd'] = \"UNKNOWN\"\n",
    "        data['integral']['last_data_ijd'] = \"UNKNOWN\"\n",
    "    "
   ]
  },
  {
   "cell_type": "code",
   "execution_count": null,
   "metadata": {},
   "outputs": [],
   "source": [
    "#da.byname(\"OrientationComment\").get().export_data()\n",
    "\n",
    "da.byname('ScSystem')._da_locally_complete"
   ]
  },
  {
   "cell_type": "code",
   "execution_count": null,
   "metadata": {},
   "outputs": [],
   "source": [
    "ev=da.byname('Event')\n",
    "final_peak = ev.peak()\n",
    "print(final_peak,ev.loc_parameters)"
   ]
  },
  {
   "cell_type": "code",
   "execution_count": null,
   "metadata": {},
   "outputs": [],
   "source": [
    "import requests\n",
    "data['shift'] = dict(fullnames = requests.get(\"http://cdcihn/transients/dashboard/current-shift\").text)"
   ]
  },
  {
   "cell_type": "code",
   "execution_count": null,
   "metadata": {},
   "outputs": [],
   "source": [
    "data['event_class'] = 'LIGO/Virgo'\n",
    "data['datasource'] = datasource"
   ]
  },
  {
   "cell_type": "code",
   "execution_count": null,
   "metadata": {},
   "outputs": [],
   "source": [
    "try:\n",
    "    data['gcn_repo_version'] = open(\"/repo-version\").read().strip()\n",
    "except:\n",
    "    data['gcn_repo_version'] = \"local\""
   ]
  },
  {
   "cell_type": "code",
   "execution_count": null,
   "metadata": {},
   "outputs": [],
   "source": [
    "from astropy import units as u\n",
    "from astropy import constants as const\n"
   ]
  },
  {
   "cell_type": "code",
   "execution_count": null,
   "metadata": {},
   "outputs": [],
   "source": [
    "if not hasattr(ev, 'map_header'):\n",
    "    data['distance'] = None\n",
    "else:\n",
    "    distance_mean = ev.map_header.get('DISTMEAN'),ev.map_header.get('DISTSTD')\n",
    "\n",
    "    if ev.map_header.get('DISTMEAN') is None or ev.map_header.get('DISTSTD') is None or data['Sensitivities'].get('summary') is None:\n",
    "        data['distance'] = None\n",
    "    else:\n",
    "        data['distance']=dict(\n",
    "            mean_Mpc = ev.map_header.get('DISTMEAN'),\n",
    "            std_Mpc = ev.map_header.get('DISTSTD'),     \n",
    "        )\n",
    "\n",
    "        data['at_distance']=dict(\n",
    "            at_mean=dict(),\n",
    "        )\n",
    "\n",
    "        for k,d in data['Sensitivities']['summary'].items():\n",
    "            data['at_distance']['at_mean'][k]=dict()\n",
    "            for r,rd in d.items():            \n",
    "                data['at_distance']['at_mean'][k][r]=rd*float(data['distance']['mean_Mpc']*u.Mpc/u.cm)**2*4*np.pi\n",
    "                print(k,r,rd,data['at_distance']['at_mean'][k][r])\n",
    "\n",
    "data['distance']"
   ]
  },
  {
   "cell_type": "code",
   "execution_count": null,
   "metadata": {},
   "outputs": [],
   "source": [
    "sens_map_soft_png=getattr(sens,'sens_map_soft_png','none')\n",
    "sens_map_hard_png=getattr(sens,'sens_map_hard_png','none')"
   ]
  },
  {
   "cell_type": "code",
   "execution_count": null,
   "metadata": {},
   "outputs": [],
   "source": [
    "try:\n",
    "    import odahubz\n",
    "    data['links'] = [odahubz.publish(\n",
    "        title=\"INTEGRAL observation of \"+name,\n",
    "        fn_png=sens_map_hard_png,\n",
    "        provenance=\"gcn pipeline\",\n",
    "        keywords=[\"INTEGRAL\", name, \"GCN\", \"sensitiviy\", \"transient\"],\n",
    "    )]\n",
    "except Exception as e:\n",
    "    print(\"failed to publish\", e)\n",
    "    data['links'] = []"
   ]
  },
  {
   "cell_type": "code",
   "execution_count": null,
   "metadata": {},
   "outputs": [],
   "source": [
    "import ddpaper\n",
    "\n",
    "from ddpaper.render import  render_draft\n",
    "from ddpaper.render import get_latex_jinja_env\n",
    "\n",
    "\n",
    "if len(sens.get_exceptions()) == 0:\n",
    "\n",
    "    gcn_text = render_draft(get_latex_jinja_env(),\n",
    "                 open(\"templates/gcn/upper_limit.txt\").read(),\n",
    "                 data\n",
    "                )\n",
    "else:\n",
    "    print(\"found exceptions:\",sens.get_exceptions())\n",
    "    gcn_text = render_draft(get_latex_jinja_env(),\n",
    "                 open(\"templates/gcn/inactive.txt\").read(),\n",
    "                 data\n",
    "                )\n",
    "\n",
    "print(gcn_text)"
   ]
  },
  {
   "cell_type": "code",
   "execution_count": null,
   "metadata": {},
   "outputs": [],
   "source": [
    "import textwrap"
   ]
  },
  {
   "cell_type": "code",
   "execution_count": null,
   "metadata": {},
   "outputs": [],
   "source": [
    "gcn_wrapped_text = \"\"\n",
    "\n",
    "long_sep = \"%c%c\"%(10,10)\n",
    "\n",
    "for block in gcn_text.split(long_sep):    \n",
    "    if '%%%%%' in block:\n",
    "        continue\n",
    "    \n",
    "    if 'NOWRAP' in block:\n",
    "        text = block.replace(\"NOWRAP \",\"\")\n",
    "    else:\n",
    "        text = \"\\n\".join(textwrap.wrap(\n",
    "            textwrap.dedent(block).strip(),\n",
    "            70,initial_indent=''))\n",
    "        \n",
    "    gcn_wrapped_text += text+long_sep\n",
    "\n",
    "print(gcn_wrapped_text,\"\\n\")"
   ]
  },
  {
   "cell_type": "code",
   "execution_count": null,
   "metadata": {},
   "outputs": [],
   "source": [
    "open(\"gcn.txt\",\"w\").write(gcn_text)\n",
    "open(\"gcn_wrapped.txt\",\"w\").write(gcn_wrapped_text)"
   ]
  },
  {
   "cell_type": "code",
   "execution_count": null,
   "metadata": {},
   "outputs": [],
   "source": [
    "# fov info\n",
    "# ibas triggers\n",
    "# title to what is used\n",
    "# say what is used\n",
    "# list counterparts\n",
    "# luminosity\n",
    "# strss all-sky"
   ]
  },
  {
   "cell_type": "code",
   "execution_count": null,
   "metadata": {},
   "outputs": [],
   "source": [
    "gcn_html = gcn_wrapped_text.replace(\"\\n\",\"<br>\")"
   ]
  },
  {
   "cell_type": "code",
   "execution_count": null,
   "metadata": {},
   "outputs": [],
   "source": [
    "#! < gcn.txt awk '{if (/^NOWRAP/) {gsub(\"^NOWRAP \",\"\"); print} else {print \"WRAP \"$$0}}' | fmt --prefix WRAP | awk '{gsub(\"^WRAP ?\",\"\")}1' > gcn_wrapped.txt\n",
    "#fmt -w 70  gcn.txt > gcn_wrapped.txt"
   ]
  },
  {
   "cell_type": "code",
   "execution_count": null,
   "metadata": {},
   "outputs": [],
   "source": []
  },
  {
   "cell_type": "code",
   "execution_count": null,
   "metadata": {},
   "outputs": [],
   "source": []
  },
  {
   "cell_type": "code",
   "execution_count": null,
   "metadata": {},
   "outputs": [],
   "source": [
    "try:\n",
    "    data['CountLimits']['rtdata']['acs_rt_lc_png_content']='contracted'\n",
    "    data['CountLimits']['rtdata']['acs_rt_det_lc_png_content']='contracted'\n",
    "except Exception as e:\n",
    "    print(e)\n",
    "\n",
    "import json\n",
    "    \n",
    "try:\n",
    "    json.dump(data, open(\"gcndata.json\",\"w\"))\n",
    "except Exception as e:\n",
    "    json.dump({}, open(\"gcndata.json\",\"w\"))"
   ]
  },
  {
   "cell_type": "code",
   "execution_count": null,
   "metadata": {
    "tags": [
     "outputs"
    ]
   },
   "outputs": [],
   "source": [
    "gcn_wrapped_txt=\"gcn_wrapped.txt\"\n",
    "gcn_txt=\"gcn.txt\"\n",
    "gcn_wrapped_text=gcn_wrapped_text\n",
    "gcn_text=gcn_text\n",
    "gcn_html=gcn_html\n",
    "sens_map_soft_png=sens_map_soft_png\n",
    "sens_map_hard_png=sens_map_hard_png\n",
    "gcndata_txt=\"gcndata.json\"\n",
    "final_peak=final_peak"
   ]
  }
 ],
 "metadata": {
  "celltoolbar": "Tags",
  "kernelspec": {
   "display_name": "base",
   "language": "python",
   "name": "python3"
  },
  "language_info": {
   "codemirror_mode": {
    "name": "ipython",
    "version": 3
   },
   "file_extension": ".py",
   "mimetype": "text/x-python",
   "name": "python",
   "nbconvert_exporter": "python",
   "pygments_lexer": "ipython3",
   "version": "3.9.16"
  },
  "vscode": {
   "interpreter": {
    "hash": "1892832a55cb9b21d693a1e0afb7563f6ad424a1b7b3da21728b3ea0874fe733"
   }
  }
 },
 "nbformat": 4,
 "nbformat_minor": 2
}
