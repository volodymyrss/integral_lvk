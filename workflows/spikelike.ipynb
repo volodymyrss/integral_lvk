{
 "cells": [
  {
   "cell_type": "code",
   "execution_count": 7,
   "metadata": {},
   "outputs": [
    {
     "name": "stdout",
     "output_type": "stream",
     "text": [
      "failed to get AUTH with env due to: 'K8S_SECRET_INTEGRAL_CLIENT_SECRET'\n",
      "got AUTH with homefile for integral-limited\n"
     ]
    },
    {
     "ename": "TypeError",
     "evalue": "get_hk() takes 0 positional arguments but 1 was given",
     "output_type": "error",
     "traceback": [
      "\u001b[0;31m---------------------------------------------------------------------------\u001b[0m",
      "\u001b[0;31mTypeError\u001b[0m                                 Traceback (most recent call last)",
      "\u001b[1;32m/home/savchenk/integral_lvk/workflows/spikelike.ipynb Cell 1\u001b[0m in \u001b[0;36m<cell line: 19>\u001b[0;34m()\u001b[0m\n\u001b[1;32m     <a href='vscode-notebook-cell:/home/savchenk/integral_lvk/workflows/spikelike.ipynb#W0sZmlsZQ%3D%3D?line=13'>14</a>\u001b[0m t \u001b[39m=\u001b[39m np\u001b[39m.\u001b[39mlinspace(\u001b[39m-\u001b[39m\u001b[39m1\u001b[39m, \u001b[39m3\u001b[39m, \u001b[39m1000\u001b[39m)\n\u001b[1;32m     <a href='vscode-notebook-cell:/home/savchenk/integral_lvk/workflows/spikelike.ipynb#W0sZmlsZQ%3D%3D?line=16'>17</a>\u001b[0m \u001b[39mimport\u001b[39;00m \u001b[39mintegralclient\u001b[39;00m \u001b[39mas\u001b[39;00m \u001b[39mic\u001b[39;00m\n\u001b[0;32m---> <a href='vscode-notebook-cell:/home/savchenk/integral_lvk/workflows/spikelike.ipynb#W0sZmlsZQ%3D%3D?line=18'>19</a>\u001b[0m ic\u001b[39m.\u001b[39;49mget_hk(\u001b[39m'\u001b[39;49m\u001b[39mACS\u001b[39;49m\u001b[39m'\u001b[39;49m)\n\u001b[1;32m     <a href='vscode-notebook-cell:/home/savchenk/integral_lvk/workflows/spikelike.ipynb#W0sZmlsZQ%3D%3D?line=20'>21</a>\u001b[0m plt\u001b[39m.\u001b[39mplot(t, spikemodel(t))\n",
      "\u001b[0;31mTypeError\u001b[0m: get_hk() takes 0 positional arguments but 1 was given"
     ]
    }
   ],
   "source": [
    "import numpy as np\n",
    "import matplotlib.pyplot as plt\n",
    "\n",
    "\n",
    "@np.vectorize\n",
    "def spikemodel(x_seconds):\n",
    "    # from VS12, https://github.com/volodymyrss/spiacs-duration/blob/master/spikelike.C\n",
    "\tx = x_seconds*20.\n",
    "\treturn 5.5*(0.3429/(np.exp(x/0.253)+np.exp(-1*x/0.1)) + \\\n",
    "\t\t   0.003/(np.exp(x/15.)+np.exp(-1*x/0.1)) + \\\n",
    "\t\t   0.003/(np.exp(x/2.)+np.exp(-1*x/0.1)))\n",
    "\n",
    "\n",
    "t = np.linspace(-1, 3, 1000)\n",
    "\n",
    "\n",
    "import integralclient as ic\n",
    "\n",
    "ic.get_hk('ACS', )\n",
    "\n",
    "plt.plot(t, spikemodel(t))\n",
    "\n"
   ]
  }
 ],
 "metadata": {
  "kernelspec": {
   "display_name": "base",
   "language": "python",
   "name": "python3"
  },
  "language_info": {
   "codemirror_mode": {
    "name": "ipython",
    "version": 3
   },
   "file_extension": ".py",
   "mimetype": "text/x-python",
   "name": "python",
   "nbconvert_exporter": "python",
   "pygments_lexer": "ipython3",
   "version": "3.9.16"
  },
  "orig_nbformat": 4,
  "vscode": {
   "interpreter": {
    "hash": "1892832a55cb9b21d693a1e0afb7563f6ad424a1b7b3da21728b3ea0874fe733"
   }
  }
 },
 "nbformat": 4,
 "nbformat_minor": 2
}
