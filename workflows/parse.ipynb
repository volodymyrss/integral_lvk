{
 "cells": [
  {
   "cell_type": "code",
   "execution_count": 1,
   "metadata": {
    "tags": [
     "parameters"
    ]
   },
   "outputs": [],
   "source": [
    "alert_url=\"../messages/archived/gcn_20230602_205131.data\""
   ]
  },
  {
   "cell_type": "code",
   "execution_count": 2,
   "metadata": {},
   "outputs": [],
   "source": [
    "import json\n",
    "import xmltodict\n",
    "\n",
    "with open(alert_url) as f:\n",
    "    alert = xmltodict.parse(f.read())"
   ]
  },
  {
   "cell_type": "code",
   "execution_count": 10,
   "metadata": {},
   "outputs": [],
   "source": [
    "role = alert['voe:VOEvent']['@role']"
   ]
  },
  {
   "cell_type": "code",
   "execution_count": 3,
   "metadata": {},
   "outputs": [],
   "source": [
    "list2dict = lambda l: {d['@name']: d for d in l}\n",
    "\n",
    "skymap_url = list2dict(alert['voe:VOEvent']['What']['Group'])['GW_SKYMAP']['Param']['@value']\n",
    "\n",
    "# from astropy.io import fits\n",
    "# fits.open(skymap)[1].header"
   ]
  },
  {
   "cell_type": "code",
   "execution_count": 4,
   "metadata": {},
   "outputs": [],
   "source": [
    "event_id = list2dict(alert['voe:VOEvent']['What']['Param'])['GraceID']['@value']"
   ]
  },
  {
   "cell_type": "code",
   "execution_count": 5,
   "metadata": {},
   "outputs": [
    {
     "data": {
      "text/plain": [
       "<Time object: scale='utc' format='isot' value=2023-06-02T18:40:16.000>"
      ]
     },
     "execution_count": 5,
     "metadata": {},
     "output_type": "execute_result"
    }
   ],
   "source": [
    "from astropy.time import Time\n",
    "\n",
    "t0 = Time(alert['voe:VOEvent']['WhereWhen']['ObsDataLocation']['ObservationLocation']['AstroCoords']['Time']['TimeInstant']['ISOTime'])\n",
    "t0"
   ]
  },
  {
   "cell_type": "code",
   "execution_count": 6,
   "metadata": {},
   "outputs": [
    {
     "name": "stdout",
     "output_type": "stream",
     "text": [
      "Packet_Type          150                 \n",
      "internal             0                   \n",
      "Pkt_Ser_Num          2                   \n",
      "GraceID              S230602ap           \n",
      "AlertType            Preliminary         \n",
      "HardwareInj          0                   \n",
      "OpenAlert            1                   \n",
      "EventPage            https://gracedb.ligo.org/superevents/S230602ap/view/\n",
      "Instruments          H1,L1               \n",
      "FAR                  1.48135e-06         \n",
      "Significant          0                   \n",
      "Group                Burst               \n",
      "Pipeline             CWB                 \n",
      "Search               AllSky              \n",
      "CentralFreq          305.918823          \n",
      "Duration             0.035156            \n"
     ]
    }
   ],
   "source": [
    "propdict = {}\n",
    "\n",
    "for k, v in list2dict(alert['voe:VOEvent']['What']['Param']).items():\n",
    "    print(f\"{k:20s} {v['@value']:20s}\")   \n",
    "    if k in ['GraceID', 'AlertType', 'Group', 'FAR', 'EventPage', 'Significant']:\n",
    "        propdict['event_id'] = v['@value']"
   ]
  },
  {
   "cell_type": "code",
   "execution_count": 7,
   "metadata": {
    "tags": [
     "outputs"
    ]
   },
   "outputs": [],
   "source": [
    "t0_utc = t0.isot\n",
    "skymap_url = skymap_url\n",
    "event_id = event_id\n",
    "propdict = propdict\n",
    "role = role"
   ]
  }
 ],
 "metadata": {
  "kernelspec": {
   "display_name": "Python 3.10.6 64-bit",
   "language": "python",
   "name": "python3"
  },
  "language_info": {
   "codemirror_mode": {
    "name": "ipython",
    "version": 3
   },
   "file_extension": ".py",
   "mimetype": "text/x-python",
   "name": "python",
   "nbconvert_exporter": "python",
   "pygments_lexer": "ipython3",
   "version": "3.10.6"
  },
  "orig_nbformat": 4,
  "vscode": {
   "interpreter": {
    "hash": "916dbcbb3f70747c44a77c7bcd40155683ae19c65e1c03b4aa3499c5328201f1"
   }
  }
 },
 "nbformat": 4,
 "nbformat_minor": 2
}
