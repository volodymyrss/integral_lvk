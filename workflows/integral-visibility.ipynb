{
 "cells": [
  {
   "cell_type": "code",
   "execution_count": 1,
   "metadata": {
    "tags": [
     "parameters"
    ]
   },
   "outputs": [],
   "source": [
    "tstart_utc=\"2023-05-21T05:30:43.000000\"\n",
    "duration_days=10.01\n",
    "target_loc=\"healpix\"\n",
    "target_ra=83.01\n",
    "target_dec=22.02\n",
    "target_radius=1.\n",
    "target_healpix_url=\"https://gracedb.ligo.org/api/superevents/S230521k/files/bayestar.multiorder.fits,1\"\n",
    "enable_esac=1"
   ]
  },
  {
   "cell_type": "code",
   "execution_count": 2,
   "metadata": {},
   "outputs": [
    {
     "name": "stderr",
     "output_type": "stream",
     "text": [
      "<frozen importlib._bootstrap>:228: RuntimeWarning: scipy._lib.messagestream.MessageStream size changed, may indicate binary incompatibility. Expected 56 from C header, got 64 from PyObject\n"
     ]
    },
    {
     "name": "stdout",
     "output_type": "stream",
     "text": [
      "failed to get AUTH with env due to: 'K8S_SECRET_INTEGRAL_CLIENT_SECRET'\n",
      "got AUTH with homefile for integral-limited\n"
     ]
    }
   ],
   "source": [
    "from astropy.table import QTable\n",
    "from astropy import units as u\n",
    "import astropy_healpix as ah\n",
    "import numpy as np\n",
    "import integralvisibility\n",
    "from matplotlib import pylab\n",
    "from astropy.coordinates import SkyCoord\n"
   ]
  },
  {
   "cell_type": "code",
   "execution_count": 3,
   "metadata": {},
   "outputs": [
    {
     "name": "stderr",
     "output_type": "stream",
     "text": [
      "2023-05-22 08:46:25 savchenk-NG-VN7-793G-79EG healpy[255854] WARNING setting the output map dtype to [dtype('float64')]\n"
     ]
    }
   ],
   "source": [
    "skymap = QTable.read(target_healpix_url)\n",
    "skymap\n",
    "\n",
    "import ligo.skymap.moc\n",
    "import healpy\n",
    "\n",
    "d = ligo.skymap.moc.rasterize(skymap, order=8)\n",
    "\n",
    "healpy.write_map('skymap.fits', d['PROBDENSITY'], nest=True, overwrite=True)\n",
    "\n",
    "healpy.mollview(d['PROBDENSITY'], nest=True)\n"
   ]
  },
  {
   "cell_type": "code",
   "execution_count": 4,
   "metadata": {},
   "outputs": [
    {
     "name": "stderr",
     "output_type": "stream",
     "text": [
      "2023-05-22 08:46:26 savchenk-NG-VN7-793G-79EG healpy[255854] INFO NSIDE = 256\n",
      "2023-05-22 08:46:26 savchenk-NG-VN7-793G-79EG healpy[255854] INFO ORDERING = NESTED in fits file\n",
      "2023-05-22 08:46:26 savchenk-NG-VN7-793G-79EG healpy[255854] INFO INDXSCHM = IMPLICIT\n",
      "2023-05-22 08:46:26 savchenk-NG-VN7-793G-79EG healpy[255854] INFO Ordering converted to RING\n"
     ]
    }
   ],
   "source": [
    "target_mp = healpy.read_map('skymap.fits')\n",
    "healpy.mollview(target_mp)"
   ]
  },
  {
   "cell_type": "code",
   "execution_count": 5,
   "metadata": {},
   "outputs": [
    {
     "name": "stderr",
     "output_type": "stream",
     "text": [
      "2023-05-22 08:46:26 savchenk-NG-VN7-793G-79EG root[255854] INFO url https://www.astro.unige.ch/cdci/astrooda/dispatch-data/gw//timesystem/api/v1.0/converttime/UTC/2023-05-21T05:30:43.000000/IJD\n"
     ]
    }
   ],
   "source": [
    "import integralclient as ic\n",
    "import datetime\n",
    "\n",
    "if tstart_utc == \"unknown\":\n",
    "    tstart_utc = datetime.datetime.utcnow().strftime(\"%Y-%m-%dT%H:%M:%S\")\n",
    "\n",
    "tstart_ijd = float(ic.converttime(\"UTC\",tstart_utc,\"IJD\"))\n",
    "\n",
    "tstop_ijd = tstart_ijd+duration_days"
   ]
  },
  {
   "cell_type": "code",
   "execution_count": 6,
   "metadata": {},
   "outputs": [],
   "source": [
    "# %matplotlib notebook"
   ]
  },
  {
   "cell_type": "code",
   "execution_count": 7,
   "metadata": {},
   "outputs": [
    {
     "name": "stderr",
     "output_type": "stream",
     "text": [
      "2023-05-22 08:46:27 savchenk-NG-VN7-793G-79EG root[255854] INFO url https://www.astro.unige.ch/cdci/astrooda/dispatch-data/gw//timesystem/api/v1.0/converttime/UTC/2002-01-01T00:00:00/IJD\n",
      "2023-05-22 08:46:28 savchenk-NG-VN7-793G-79EG root[255854] INFO url https://www.astro.unige.ch/cdci/astrooda/dispatch-data/gw//timesystem/api/v1.0/converttime/UTC/2012-01-01T00:00:00/IJD\n"
     ]
    }
   ],
   "source": [
    "vis = integralvisibility.Visibility(minsolarangle=40)\n",
    "vis.minsolarangle=40"
   ]
  },
  {
   "cell_type": "code",
   "execution_count": 8,
   "metadata": {},
   "outputs": [
    {
     "name": "stderr",
     "output_type": "stream",
     "text": [
      "2023-05-22 08:46:29 savchenk-NG-VN7-793G-79EG root[255854] INFO url https://www.astro.unige.ch/cdci/astrooda/dispatch-data/gw//timesystem/api/v1.0/converttime/ANY/8541.2304650925925671/IJD\n"
     ]
    },
    {
     "name": "stdout",
     "output_type": "stream",
     "text": [
      "get grid...\n",
      "sun coord <SkyCoord (ICRS): (ra, dec) in deg\n",
      "    (56.07413579, 19.80857065)>\n",
      "will compute map.. (196608,)\n"
     ]
    }
   ],
   "source": [
    "mp=vis.for_time(tstart_ijd,nsides=128)\n",
    "\n"
   ]
  },
  {
   "cell_type": "code",
   "execution_count": 9,
   "metadata": {},
   "outputs": [
    {
     "data": {
      "text/plain": [
       "{'barytime': -0.13589770447981409,\n",
       " 'bodies': {'earth': {'body_dec': -72.895,\n",
       "   'body_distance': 0,\n",
       "   'body_in_sc': [11.196984595473598, 20.45467056593822],\n",
       "   'body_ra': 18.39300000000003,\n",
       "   'body_size': 2.4989297373600805,\n",
       "   'integral_parallax': 57.29577951308232,\n",
       "   'separation': 146075.1},\n",
       "  'moon': {'body_dec': -72.895,\n",
       "   'body_distance': 393026.586400955,\n",
       "   'body_in_sc': [89.14433913949102, 1.5873702799135723],\n",
       "   'body_ra': 18.39300000000003,\n",
       "   'body_size': 0.2638112104851575,\n",
       "   'integral_parallax': 22.1855204103284,\n",
       "   'separation': 377249.96155848855},\n",
       "  'sun': {'body_dec': -72.895,\n",
       "   'body_distance': 151392379.32343245,\n",
       "   'body_in_sc': [70.31969893085207, -0.5990881464681543],\n",
       "   'body_ra': 18.39300000000003,\n",
       "   'body_size': 0.26332301764346894,\n",
       "   'integral_parallax': 0.05528954453725959,\n",
       "   'separation': 151375577.28136575}},\n",
       " 'd_scx': 11.1969845954736,\n",
       " 'd_scy': 86.10890065768447,\n",
       " 'd_scz': 79.51727123608072,\n",
       " 'dyz_scy': 69.54532943406177,\n",
       " 'dyz_scz': 20.45467056594073,\n",
       " 'ephs': {'alt': 146075.1, 'dec': 72.895, 'ra': 198.393},\n",
       " 'phi': 20.45467056593822,\n",
       " 'scx': {'dec': -8.09, 'ra': 352.233},\n",
       " 'scy': {'dec': 63.38561949119084, 'ra': 278.7126739275374},\n",
       " 'scz': {'dec': 25.17, 'ra': 78.403},\n",
       " 'theta': 11.196984595473598}"
      ]
     },
     "execution_count": 9,
     "metadata": {},
     "output_type": "execute_result"
    }
   ],
   "source": [
    "sc = ic.get_sc(tstart_utc)\n",
    "sc"
   ]
  },
  {
   "cell_type": "code",
   "execution_count": 10,
   "metadata": {},
   "outputs": [
    {
     "data": {
      "text/plain": [
       "18.39300000000003"
      ]
     },
     "execution_count": 10,
     "metadata": {},
     "output_type": "execute_result"
    }
   ],
   "source": [
    "sc['bodies']['earth']['body_ra']"
   ]
  },
  {
   "cell_type": "code",
   "execution_count": 11,
   "metadata": {},
   "outputs": [
    {
     "data": {
      "text/plain": [
       "<SkyCoord (ICRS): (ra, dec) in deg\n",
       "    (352.233, -8.09)>"
      ]
     },
     "execution_count": 11,
     "metadata": {},
     "output_type": "execute_result"
    }
   ],
   "source": [
    "now_point = SkyCoord(sc['scx']['ra'], sc['scx']['dec'], unit='deg')\n",
    "now_point"
   ]
  },
  {
   "cell_type": "code",
   "execution_count": 12,
   "metadata": {},
   "outputs": [
    {
     "name": "stdout",
     "output_type": "stream",
     "text": [
      "\n",
      "\n",
      "\n",
      "\n",
      "\n",
      "\n",
      "\n",
      "<html>\n",
      "<head>\n",
      "    <title>Target Visibility Predictor</title>\n",
      "    <link type=\"text/css\" rel=\"stylesheet\" href=\"javascript/js9support.css\">\n",
      "    <link type=\"text/css\" rel=\"stylesheet\" href=\"javascript/js9.css\">\n",
      "\n",
      "    <link rel=\"stylesheet\" href=\"https://maxcdn.bootstrapcdn.com/bootstrap/3.3.7/css/bootstrap.min.css\">\n",
      "    <script type=\"text/javascript\" src=\"javascript/js9prefs.js\"></script>\n",
      "    <script type=\"text/javascript\" src=\"javascript/js9support.min.js\"></script>\n",
      "    <script type=\"text/javascript\" src=\"javascript/js9.min.js\"></script>\n",
      "    <script type=\"text/javascript\" src=\"javascript/js9plugins.js\"></script>\n",
      "    <script type=\"text/javascript\">\n",
      "        function show() {\n",
      "\n",
      "        }\n",
      "    </script>\n",
      "    <style type=\"text/css\">\n",
      "        #centerdiv {\n",
      "            width: 100%;\n",
      "        / / margin-left: auto;\n",
      "        / / margin-right: auto;\n",
      "        }\n",
      "\n",
      "        #JS9ToolbarToolbar {\n",
      "            width: 516px;\n",
      "            height: 144px;\n",
      "            min-height: 30px;\n",
      "        }\n",
      "\n",
      "        .JS9ToolbarDiv {\n",
      "            width: 516px;\n",
      "            height: 144px;\n",
      "            min-height: 30px;\n",
      "        }\n",
      "\n",
      "        body {\n",
      "            margin: 5px;\n",
      "            padding: 0px;\n",
      "            font-family: Arial, Helvetica, sans-serif;\n",
      "            background-color: #FFFFFF;\n",
      "            background-repeat: repeat-y;\n",
      "        }\n",
      "\n",
      "        h2, .h2 {\n",
      "            display: block;\n",
      "            font-size: 1.3em;\n",
      "            margin-block-start: 0.83em;\n",
      "            margin-block-end: 0.83em;\n",
      "            margin-inline-start: 0px;\n",
      "            margin-inline-end: 0px;\n",
      "            font-weight: bold;\n",
      "            border-color: pink;\n",
      "\n",
      "\n",
      "        }\n",
      "    </style>\n",
      "    <link href=\"css/isocweb.css\" rel=\"stylesheet\" type=\"text/css\"/>\n",
      "\n",
      "</head>\n",
      "<body><!DOCTYPE HTML PUBLIC \"-//W3C//DTD HTML 4.01 Transitional//EN\"\n",
      "\"http://www.w3.org/TR/html4/loose.dtd\">\n",
      "\n",
      "<div><h2 style=\"text-align: center; font-size: large; font-family: bold\">INTEGRAL SOC <br/>\n",
      "    Target Visibility Predictor<br/></h2>\n",
      "\n",
      "</div>\n",
      "<form name=\"tvpForm\" method=\"GET\">\n",
      "    <center>\n",
      "        <table style=\"width: 70%;text-align: center;\">\n",
      "            <tr>\n",
      "                <th colspan=\"2\" align=\"left\" valign=\"top\"><big>Target</big><br>\n",
      "                </th>\n",
      "            </tr>\n",
      "            <tr>\n",
      "                <td align=\"right\">Source name (optional)</td>\n",
      "                <td align=\"left\"><input name=\"sourceName\"\n",
      "                                        size=\"15\"\n",
      "                                        value=\"\"/>\n",
      "                    <input type=\"submit\" name=\"action\" value=\"lookup\" title=\"look up\"/>\n",
      "                </td>\n",
      "            </tr>\n",
      "\n",
      "            <tr>\n",
      "                <td align=\"right\">RA or l (J2000)</td>\n",
      "                <td align=\"left\">\n",
      "                    <input name=\"ra\" size=\"15\" value=\"83.01\"/>\n",
      "                    (e.g. 123.4 or 08:13:36)\n",
      "                </td>\n",
      "            </tr>\n",
      "            <tr>\n",
      "                <td align=\"right\">DEC or b (J2000)</td>\n",
      "                <td align=\"left\">\n",
      "                    <input name=\"dec\" size=\"15\" value=\"22.02\"/>\n",
      "                    (e.g. 10.6 or +10:36:00)\n",
      "                </td>\n",
      "            </tr>\n",
      "\n",
      "            <tr>\n",
      "                <td align=\"right\">Equatorial (RA, Dec) or Galactic coordinates (l, b)</td>\n",
      "                <td align=\"left\">\n",
      "                    \n",
      "                        <INPUT TYPE=\"radio\" NAME=\"coordinates\" CHECKED VALUE=\"equatorial\">&nbsp;Equatorial</INPUT>\n",
      "                        <INPUT TYPE=\"radio\" NAME=\"coordinates\" VALUE=\"galactic\">&nbsp;Galactic</INPUT>\n",
      "                    \n",
      "                    \n",
      "                </td>\n",
      "            </tr>\n",
      "\n",
      "\n",
      "            <tr>\n",
      "                <th colspan=\"2\" align=\"left\"><big>Visibility</big>\n",
      "\n",
      "                </th>\n",
      "            </tr>\n",
      "            <tr>\n",
      "                <td align=\"right\">Dither pattern</td>\n",
      "                <td align=\"left\">\n",
      "\n",
      "                    <input type=\"radio\"\n",
      "                           name=\"dither\"\n",
      "                           checked\n",
      "                           value=\"R\">5x5</input>\n",
      "                    <input type=\"radio\"\n",
      "                           name=\"dither\"\n",
      "                           \n",
      "                           value=\"H\">Hexagonal</input>\n",
      "                    <input type=\"radio\"\n",
      "                           name=\"dither\"\n",
      "                           \n",
      "                           value=\"S\">Staring</input>\n",
      "                </td>\n",
      "            </tr>\n",
      "            <tr>\n",
      "                <td align=\"right\">Start date (dd-mm-yyyy)</td>\n",
      "                <td align=\"left\"><input name=\"startDate\"\n",
      "                                        size=\"15\"\n",
      "                                        value=\"21-05-2023\"/>\n",
      "                </td>\n",
      "            </tr>\n",
      "\n",
      "            <tr>\n",
      "                <td align=\"right\">End date (dd-mm-yyyy)</td>\n",
      "                <td align=\"left\"><input name=\"endDate\"\n",
      "                                        size=\"15\"\n",
      "                                        value=\"31-12-2019\"/>\n",
      "                </td>\n",
      "            </tr>\n",
      "            <tr>\n",
      "                <td align=\"right\">Minimum duration (ks < 187)</td>\n",
      "                <td align=\"left\"><input name=\"duration\"\n",
      "                                        size=\"15\"\n",
      "                                        value=\"12.6\"/>\n",
      "                </td>\n",
      "            </tr>\n",
      "\n",
      "            \n",
      "                <tr>\n",
      "                    <td colspan=\"2\" align=\"center\">\n",
      "                        <font color='Red'>Invalid dates:end date is earlier than start date </br></font>\n",
      "                    </td>\n",
      "                </tr>\n",
      "            \n",
      "        </table>\n",
      "    </center>\n",
      "    <CENTER><input type=\"submit\" name=\"action\" value=\"predict\"/><input type=\"submit\" name=\"action\" value=\"reset\"/></td>\n",
      "    </CENTER>\n",
      "    <hr/>\n",
      "    \n",
      "\n",
      "    \n",
      "        \n",
      "\n",
      "    \n",
      "</form>\n",
      "\n",
      "</body>\n",
      "</html>\n",
      "\n"
     ]
    }
   ],
   "source": [
    "import requests\n",
    "\n",
    "#http://integral.esac.esa.int/isocweb/tvp.html?revolution=2050&action=perRevolution\n",
    "r=requests.get(\"http://integral.esac.esa.int/isocweb/tvp.html\",\n",
    "            params=dict(\n",
    "                    startDate=tstart_utc[8:10]+\"-\"+tstart_utc[5:7]+\"-\"+tstart_utc[:4],                    \n",
    "                    duration=\"12.600\",\n",
    "                    dither=\"R\",\n",
    "                    action=\"predict\",\n",
    "                    endDate=\"31-12-2019\",\n",
    "                    coordinates=\"equatorial\",\n",
    "                    ra=target_ra,\n",
    "                    dec=target_dec,\n",
    "                    format=\"json\"))\n",
    "\n",
    "try:\n",
    "    if not enable_esac: raise RuntimeError\n",
    "    \n",
    "    visibility = r.json()\n",
    "    \n",
    "    #visibility\n",
    "    pylab.figure()\n",
    "\n",
    "    for interval in visibility['INTERVALS'][:10]:\n",
    "        print(interval)\n",
    "        i1=float(ic.converttime(\"UTC\",interval['start'][:-4].replace(\" \",\"T\"),\"IJD\"))\n",
    "        i2=float(ic.converttime(\"UTC\",interval['end'][:-4].replace(\" \",\"T\"),\"IJD\"))\n",
    "\n",
    "        print(i1,i2)\n",
    "\n",
    "        pylab.axvspan(i1,i2,alpha=0.5)\n",
    "\n",
    "    pylab.axvspan(tstart_ijd,tstop_ijd,alpha=0.5,color='g')\n",
    "    pylab.xlabel(\"IJD\")\n",
    "\n",
    "    pylab.savefig('visibility_intervals.png')\n",
    "\n",
    "except:\n",
    "    print(r.text)\n"
   ]
  },
  {
   "cell_type": "code",
   "execution_count": 13,
   "metadata": {},
   "outputs": [
    {
     "name": "stderr",
     "output_type": "stream",
     "text": [
      "2023-05-22 08:46:33 savchenk-NG-VN7-793G-79EG root[255854] INFO url https://www.astro.unige.ch/cdci/astrooda/dispatch-data/gw//timesystem/api/v1.0/converttime/UTC/2023-05-21T05:30:43.000000/REVNUM\n"
     ]
    },
    {
     "name": "stdout",
     "output_type": "stream",
     "text": [
      "will fetch ESOC visibility map for rev 2642\n",
      "ESAC VM success\n"
     ]
    }
   ],
   "source": [
    "import requests\n",
    "\n",
    "esac_visibility_rev = ic.converttime('UTC',tstart_utc,'REVNUM')\n",
    "\n",
    "print(\"will fetch ESOC visibility map for rev\",esac_visibility_rev)\n",
    "\n",
    "try:\n",
    "    r=requests.get(\"http://integral.esac.esa.int/isocweb/tvp.html\",\n",
    "            params=dict(\n",
    "                    revolution=esac_visibility_rev,\n",
    "                    action='perRevolution',\n",
    "                    ))\n",
    "\n",
    "    esac_visibility_map = r.json()\n",
    "    print(\"ESAC VM success\")\n",
    "except:\n",
    "    esac_visibility_map = None\n",
    "    print(\"ESAC visibility failed:\", r.text)\n",
    "\n",
    "#visibility\n",
    "\n",
    "\n"
   ]
  },
  {
   "cell_type": "code",
   "execution_count": 14,
   "metadata": {},
   "outputs": [],
   "source": [
    "import healpy\n",
    "\n",
    "import numpy as np\n",
    "\n",
    "mp_ra, mp_dec = integralvisibility.healpy.pix2ang(128,range(integralvisibility.healpy.nside2npix(128)),lonlat=True)\n",
    "\n",
    "esac_mp = np.zeros_like(mp_ra)\n",
    "\n",
    "try:\n",
    "    if not enable_esac: raise RuntimeError\n",
    "    for sky_bin in esac_visibility_map['sky_bins'][:10000]:\n",
    "        #print(sky_bin)\n",
    "\n",
    "        m = (mp_ra > float(sky_bin['top_left_corner'][0])) & (mp_ra < float(sky_bin['top_right_corner'][0]))\n",
    "        m &= (mp_dec < float(sky_bin['top_left_corner'][1])) & (mp_dec > float(sky_bin['bottom_left_corner'][1]))\n",
    "\n",
    "        esac_mp[m]=float(sky_bin['duration'])\n",
    "except Exception as e:\n",
    "    print(\"ESAC visibility failed:\", e)\n",
    "    esac_mp = mp\n",
    "\n"
   ]
  },
  {
   "cell_type": "code",
   "execution_count": null,
   "metadata": {},
   "outputs": [],
   "source": [
    "import gzip\n",
    "\n",
    "if target_loc == \"healpix\":\n",
    "    from io import BytesIO\n",
    "    from astropy.io import fits\n",
    "    \n",
    "    # c = requests.get(target_healpix_url).content\n",
    "    # try:\n",
    "    #     b = gzip.open(BytesIO(c))\n",
    "    #     b.seek(0)\n",
    "    #     f = fits.open(b)\n",
    "    # except:\n",
    "    #     f = fits.open(BytesIO(c))\n",
    "        \n",
    "    # target_mp = healpy.read_map(f[1])\n",
    "    \n",
    "    healpy.mollview(target_mp)\n",
    "    \n",
    "    target_mp = healpy.get_interp_val(target_mp, mp_ra, mp_dec, lonlat=True)\n",
    "    target_mp/=target_mp.sum()\n",
    "\n",
    "    healpy.mollview(target_mp)\n",
    "    \n",
    "    indices = np.argsort(-target_mp)\n",
    "    target_cum_map = np.empty(target_mp.shape)\n",
    "    target_cum_map[indices] = 100 * np.cumsum(target_mp[indices])\n",
    "\n",
    "    healpy.mollview(target_cum_map)\n",
    "\n",
    "    extract={}\n",
    "    \n",
    "    for k,v in dict(f[1].header).items():    \n",
    "        if k.startswith('LOG') or \\\n",
    "           k.startswith('DIST') or \\\n",
    "           k.startswith('INSTRUME'):\n",
    "            extract[k] = v\n",
    "            print(k,v)\n",
    "else:\n",
    "    extract={}\n",
    "    \n",
    "extract"
   ]
  },
  {
   "cell_type": "code",
   "execution_count": null,
   "metadata": {},
   "outputs": [],
   "source": [
    "def total_slew_time_s(distance_deg):\n",
    "    total_slew_options = []\n",
    "    \n",
    "    slew_duration_s = distance_deg*60*60/185.\n",
    "    \n",
    "    total_slew_options.append(slew_duration_s)\n",
    "    \n",
    "    if distance_deg>45:\n",
    "        rwb_duration_s = 22*60. \n",
    "        total_slew_options.append(slew_duration_s + rwb_duration_s)\n",
    "    \n",
    "    return total_slew_options\n",
    "\n",
    "def total_reaction_time_s(distance_deg):\n",
    "    return [ (x + 3600*2) for x in total_slew_time_s(distance_deg)]\n",
    "    \n",
    "total_reaction_time_s(10),total_reaction_time_s(50)"
   ]
  },
  {
   "cell_type": "code",
   "execution_count": null,
   "metadata": {},
   "outputs": [],
   "source": [
    "visibility_summary = {}\n",
    "\n",
    "for kind, vismp in [(\"std\", mp), (\"esac\", esac_mp)]:\n",
    "    visibility_summary[kind]={}\n",
    "    vis = visibility_summary[kind]\n",
    "    \n",
    "    nsides = healpy.npix2nside(len(vismp))\n",
    "\n",
    "  #  integralvisibility.healpy.mollview(vismp,title=\"INTEGRAL visibility at \"+tstart_utc[:19],cbar=False)\n",
    "  #  integralvisibility.healpy.graticule()\n",
    "  #  pylab.savefig(\"visibility_\"+kind+\".png\")\n",
    "\n",
    "    radec=integralvisibility.healpy.pix2ang(integralvisibility.healpy.npix2nside(len(vismp)), range(len(vismp)), lonlat=True)\n",
    "    ra,dec=radec\n",
    "    \n",
    "    sep_from_now_deg = np.transpose(SkyCoord(*radec,unit='deg').separation(now_point).deg)\n",
    "    \n",
    "    dist_ra=(ra - target_ra)\n",
    "    dist_ra[abs(dist_ra)>180]-=360\n",
    "\n",
    "    if target_loc == \"point\":\n",
    "        \n",
    "            target_mp=np.exp(\n",
    "                -0.5*(dist_ra/target_radius)**2  \\\n",
    "                -0.5*((dec - target_dec)/target_radius )**2\n",
    "            )\n",
    "\n",
    "            target_mp/=np.sum(target_mp)\n",
    "        \n",
    "      \n",
    "        \n",
    "\n",
    "    integralvisibility.healtics.plot_with_ticks((vismp/vismp.max())*100, \n",
    "                                                overplot=[[(target_mp,'r',target_mp.max()/10.)]],\n",
    "                                                vmin=0,\n",
    "                                                cmap=\"summer\",\n",
    "                                                unit=\"%\",\n",
    "                                                title=\"INTEGRAL visibility at \"+tstart_utc[:19])\n",
    "\n",
    "#     integralvisibility.healpy.mollview(vismp/vismp.max() + target_mp/target_mp.max(),title=\"INTEGRAL visibility at \"+tstart_utc[:19],cbar=False)\n",
    "#     integralvisibility.healpy.graticule()\n",
    "\n",
    "    vis['on_peak'] = vismp[target_mp.argmax()]\n",
    "    vis['on_peak_frac'] = vis['on_peak'] / vismp.max()\n",
    "\n",
    "    vis['on_probability'] = target_mp[vismp > vismp.max()/2.].sum()\n",
    "\n",
    "    #vis['visible_peak_ra'] = healpy.pix2ang(nsides, target_mp[vismp > vismp.max()/2.].argmax(),)\n",
    "    vis['visible'] = vis['on_probability']\n",
    "    \n",
    "    def argmax_masked(x,y):\n",
    "        mi = x[y].argmax()\n",
    "        print(\"mi\",mi)\n",
    "        idx = np.array(range(len(x)))\n",
    "        print(\"idx\",idx)\n",
    "        return idx[y][mi]\n",
    "\n",
    "    vis['peak_of_target'] = list(np.transpose(radec)[target_mp.argmax()])\n",
    "    vis['peak_of_visible'] = list(np.transpose(radec)[argmax_masked(target_mp, vismp > vismp.max()/2.)])\n",
    "\n",
    "\n",
    "    vis['points'] = [\n",
    "        dict(descr=\"total visble\",prob=vis['on_probability']),\n",
    "        dict(descr=\"peak\",ra=vis['peak_of_target'][0],dec=vis['peak_of_target'][1]),\n",
    "        dict(descr=\"visible peak\",ra=vis['peak_of_visible'][0],dec=vis['peak_of_visible'][1]),\n",
    "    ]\n",
    "    \n",
    "    \n",
    "    colors=['r','m','k','b','g','c','y','w','grey']\n",
    "    for limrange in None, 45, 90:\n",
    "        \n",
    "        limmod = \"lim%.3lgdeg_\"%limrange if limrange is not None else \"\"\n",
    "        limdescr = \" (%.3lg deg from now)\"%limrange if limrange is not None else \"\"\n",
    "        \n",
    "        \n",
    "        for scale, descr in [(5, \"best for staring\"), (15, \"best for HEX\"), (30, \"best for 5x5\")]:\n",
    "            c=colors.pop()\n",
    "            target_sm = healpy.smoothing(target_mp/target_mp.max(), sigma=scale/180.*np.pi,verbose=False)\n",
    "            target_sm/=sum(target_sm)\n",
    "\n",
    "            print(sum(target_sm),sum(target_mp))\n",
    "                        \n",
    "            mask_visible = (vismp > vismp.max()/2.)\n",
    "            if limrange is not None:\n",
    "                mask_visible &= (sep_from_now_deg < limrange)\n",
    "                \n",
    "            vis[limmod+'best_visible_%ideg'%scale]=list(np.transpose(radec)[argmax_masked(target_sm, mask_visible)])\n",
    "            vis[limmod+'best_visible_prob_%ideg'%scale]=max(target_sm[mask_visible])*scale*scale*4*np.pi*2  \n",
    "\n",
    "            true_peak = SkyCoord(vis['peak_of_target'][0],vis['peak_of_target'][1],unit=\"deg\")\n",
    "\n",
    "            vis['points'] += [dict(\n",
    "                alt_descr=\"peak at %i deg scale\"%scale+limdescr,            \n",
    "                descr = descr+limdescr,            \n",
    "                ra=vis[limmod+'best_visible_%ideg'%scale][0],\n",
    "                dec=vis[limmod+'best_visible_%ideg'%scale][1],\n",
    "                prob=vis[limmod+'best_visible_prob_%ideg'%scale],\n",
    "                distance_to_true_peak_deg=SkyCoord(vis[limmod+'best_visible_%ideg'%scale][0], vis[limmod+'best_visible_%ideg'%scale][1],unit=\"deg\").separation(true_peak).deg,\n",
    "                distance_to_now=SkyCoord(vis[limmod+'best_visible_%ideg'%scale][0], vis[limmod+'best_visible_%ideg'%scale][1],unit=\"deg\").separation(now_point).deg\n",
    "            )]\n",
    "\n",
    "\n",
    "            def c_ra(x):\n",
    "                if x<180:\n",
    "                    return -x\n",
    "                return 360-x\n",
    "\n",
    "            pylab.scatter(\n",
    "                c_ra(vis[limmod+'best_visible_%ideg'%scale][0])/180.*np.pi,\n",
    "                vis[limmod+'best_visible_%ideg'%scale][1]/180.*np.pi,\n",
    "                s=100,c=c)\n",
    "\n",
    "            pylab.text(\n",
    "                c_ra((-5+vis[limmod+'best_visible_%ideg'%scale][0]))/180.*np.pi,\n",
    "                (5+vis[limmod+'best_visible_%ideg'%scale][1])/180.*np.pi,\n",
    "                \"%i deg\"%scale,\n",
    "                size=10,color=c)\n",
    "        \n",
    "    \n",
    "    pylab.scatter(\n",
    "        c_ra(sc['scx']['ra'])/180.*np.pi,\n",
    "        sc['scx']['dec']/180.*np.pi,\n",
    "        marker='x',\n",
    "        s=200,c='k',\n",
    "        label='FoV')\n",
    "    \n",
    "    #pylab.legend()\n",
    "\n",
    "    \n",
    "\n",
    "        \n",
    "    print(visibility_summary)\n",
    "\n",
    "\n",
    "    pylab.savefig(\"skymap_visibility_\"+kind+\".png\")"
   ]
  },
  {
   "cell_type": "code",
   "execution_count": null,
   "metadata": {},
   "outputs": [],
   "source": [
    "visibility_summary['esac']"
   ]
  },
  {
   "cell_type": "code",
   "execution_count": null,
   "metadata": {},
   "outputs": [],
   "source": [
    "template=\"\"\"\n",
    "<html>\n",
    "<head>\n",
    "</head>\n",
    "<body>\n",
    "\n",
    "<table style=\"border-collapse: separate;border-spacing: 2px;\">\n",
    "\n",
    "\n",
    "<tr style=\"background-color:#ADD8E6\">\n",
    "<td align=\"center\"></td>\n",
    "<td align=\"center\">RA</td>\n",
    "<td align=\"center\">Dec</td>\n",
    "<td align=\"center\">Probability</td>\n",
    "<!--<td align=\"center\">To Peak</td>-->\n",
    "<td align=\"center\">From current</td>\n",
    "</tr>\n",
    "\n",
    "{% for point in points %}\n",
    "\n",
    "<tr>\n",
    "<td style=\"text-align:center\" >\n",
    "<div data-toggle=\"{{ point.uid }}_loc_tooltip\" title=\"{{ point.alt_descr }}\" style=\"display:inline-block;margin-right:10px;\">\n",
    "{{ point.descr }}\n",
    "</div>\n",
    "</td>\n",
    "\n",
    "{% if point.ra %}\n",
    "<td style=\"text-align:center\" >{{ point.ra | round(1) }}</td>\n",
    "<td style=\"text-align:center\" >{{ point.dec | round(1)}}</td>\n",
    "{% else %}\n",
    "<td style=\"text-align:center\" ></td>\n",
    "<td style=\"text-align:center\" ></td>\n",
    "{% endif %}\n",
    "\n",
    "{% if point.prob %}\n",
    "<td style=\"text-align:center\" >{{ (100*point.prob) | round(1)}}%</td>\n",
    "{% else %}\n",
    "<td style=\"text-align:center\" ></td>\n",
    "{% endif %}\n",
    "\n",
    "<!--\n",
    "{% if point.distance_to_true_peak_deg %}\n",
    "<td style=\"text-align:center\" >{{ point.distance_to_true_peak_deg | round(1)}} deg</td>\n",
    "{% else %}\n",
    "<td style=\"text-align:center\" ></td>\n",
    "{% endif %}\n",
    "-->\n",
    "\n",
    "\n",
    "{% if point.distance_to_now %}\n",
    "<td style=\"text-align:center\" >{{ point.distance_to_now | round(1)}} deg</td>\n",
    "{% else %}\n",
    "<td style=\"text-align:center\" ></td>\n",
    "{% endif %}\n",
    "\n",
    "\n",
    "</tr>\n",
    "\n",
    "{% endfor %}\n",
    "\n",
    "<tr style=\"background-color:#ADD8E6\">\n",
    "<td colspan=5 height=\"5px\"></td>\n",
    "</tr>\n",
    "\n",
    "\n",
    "</table>\n",
    "\n",
    "</body>\n",
    "</html>\n",
    "\"\"\"\n",
    "\n",
    "from IPython.core.display import display, HTML\n",
    "from jinja2 import Environment, BaseLoader\n",
    "\n",
    "rtemplate = Environment(loader=BaseLoader).from_string(template)\n",
    "\n",
    "\n",
    "data_html = rtemplate.render(points=visibility_summary['esac']['points'])\n",
    "\n",
    "open(\"visibility_card.html\",\"w\").write(data_html)\n",
    "\n",
    "display(HTML(data_html))"
   ]
  },
  {
   "cell_type": "code",
   "execution_count": null,
   "metadata": {},
   "outputs": [],
   "source": [
    "visibility_fraction=visibility_summary['esac']['visible']"
   ]
  },
  {
   "cell_type": "code",
   "execution_count": null,
   "metadata": {
    "tags": [
     "outputs"
    ]
   },
   "outputs": [],
   "source": [
    "skymap_png=\"skymap_visibility_std.png\"\n",
    "skymap_esac_png=\"skymap_visibility_esac.png\"\n",
    "visibility_std=\"visibility_std.png\"\n",
    "visibility_esac=\"visibility_esac.png\"\n",
    "visibility_intervals_png='visibility_intervals.png'\n",
    "visibility_summary=visibility_summary\n",
    "visibility_fraction=visibility_fraction\n",
    "visibility_card=\"visibility_card.html\"\n",
    "extract=extract"
   ]
  }
 ],
 "metadata": {
  "celltoolbar": "Tags",
  "kernelspec": {
   "display_name": "base",
   "language": "python",
   "name": "python3"
  },
  "language_info": {
   "codemirror_mode": {
    "name": "ipython",
    "version": 3
   },
   "file_extension": ".py",
   "mimetype": "text/x-python",
   "name": "python",
   "nbconvert_exporter": "python",
   "pygments_lexer": "ipython3",
   "version": "3.9.16"
  },
  "vscode": {
   "interpreter": {
    "hash": "1892832a55cb9b21d693a1e0afb7563f6ad424a1b7b3da21728b3ea0874fe733"
   }
  }
 },
 "nbformat": 4,
 "nbformat_minor": 2
}
